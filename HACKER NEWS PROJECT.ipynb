{
 "cells": [
  {
   "cell_type": "markdown",
   "metadata": {},
   "source": [
    "### HACKER NEWS PROJECT\n",
    "\n",
    "##### BACKGROUND\n",
    "Hacker News is a site started by the startup incubator Y Combinator, where user-submitted stories (known as \"posts\") are voted and commented upon, similar to reddit. Hacker News is extremely popular in technology and startup circles, and posts that make it to the top of Hacker News' listings can get hundreds of thousands of visitors as a result.\n",
    "\n",
    "##### DESCRIPTION OF DATASET USED FOR ANALYSIS\n",
    "Find dataset here, <https://www.kaggle.com/hacker-news/hacker-news-posts.\n",
    "\n",
    "**Note:it has been reduced from almost 300,000 rows to approximately 20,000 rows by removing all submissions that did not receive any comments, and then randomly sampling from the remaining submissions. \n",
    "\n",
    "###### Below are descriptions of the columns:\n",
    "\n",
    "1) id: The unique identifier from Hacker News for the post\n",
    "\n",
    "2) title: The title of the post\n",
    "\n",
    "3) url: The URL that the posts links to, if the post has a URL\n",
    "\n",
    "4) num_points: The number of points the post acquired, calculated as the total number of upvotes minus the total number of downvotes\n",
    "\n",
    "5) num_comments: The number of comments that were made on the post\n",
    "\n",
    "6) author: The username of the person who submitted the post\n",
    "\n",
    "7) created_at: The date and time at which the post was submitted\n"
   ]
  },
  {
   "cell_type": "markdown",
   "metadata": {},
   "source": [
    "##### MY TASK\n",
    "\n",
    "We're specifically interested in posts whose titles begin with either Ask HN or Show HN. Users submit Ask HN posts to ask the Hacker News community a specific question. Below are a couple examples:\n",
    "\n",
    "``\n",
    "Ask HN: How to improve my personal website?\n",
    "Ask HN: Am I the only one outraged by Twitter shutting down share counts?\n",
    "Ask HN: Aby recent changes to CSS that broke mobile?``\n",
    "\n",
    "Likewise, users submit Show HN posts to show the Hacker News community a project, product, or just generally something interesting. Below are a couple of examples:\n",
    "\n",
    "``Show HN: Wio Link  ESP8266 Based Web of Things Hardware Development Platform'\n",
    "Show HN: Something pointless I made\n",
    "Show HN: Shanhu.io, a programming playground powered by e8vm``\n",
    "\n",
    "**I am comparing these two types of posts to determine the following:**\n",
    "\n",
    "**1) Do Ask HN or Show HN receive more comments on average?**\n",
    "\n",
    "**2) Do posts created at a certain time receive more comments on average?**"
   ]
  },
  {
   "cell_type": "code",
   "execution_count": 124,
   "metadata": {},
   "outputs": [],
   "source": [
    "from csv import reader"
   ]
  },
  {
   "cell_type": "code",
   "execution_count": 125,
   "metadata": {},
   "outputs": [
    {
     "name": "stdout",
     "output_type": "stream",
     "text": [
      "[['12224879', 'Interactive Dynamic Video', 'http://www.interactivedynamicvideo.com/', '386', '52', 'ne0phyte', '8/4/2016 11:52'], ['10975351', 'How to Use Open Source and Shut the Fuck Up at the Same Time', 'http://hueniverse.com/2016/01/26/how-to-use-open-source-and-shut-the-fuck-up-at-the-same-time/', '39', '10', 'josep2', '1/26/2016 19:30'], ['11964716', \"Florida DJs May Face Felony for April Fools' Water Joke\", 'http://www.thewire.com/entertainment/2013/04/florida-djs-april-fools-water-joke/63798/', '2', '1', 'vezycash', '6/23/2016 22:20'], ['11919867', 'Technology ventures: From Idea to Enterprise', 'https://www.amazon.com/Technology-Ventures-Enterprise-Thomas-Byers/dp/0073523429', '3', '1', 'hswarna', '6/17/2016 0:01'], ['10301696', 'Note by Note: The Making of Steinway L1037 (2007)', 'http://www.nytimes.com/2007/11/07/movies/07stein.html?_r=0', '8', '2', 'walterbell', '9/30/2015 4:12']]\n"
     ]
    }
   ],
   "source": [
    "opened=open(\"hacker_news.csv\",encoding='utf8')\n",
    "read_file=reader(opened)\n",
    "#l is the variable that represents the table when converted into a list of list with the header column\n",
    "l=list(read_file)\n",
    "header=l[0]\n",
    "#hn is the variable representing the list of list without the header column\n",
    "hn=l[1:]\n",
    "print(hn[:5])\n"
   ]
  },
  {
   "cell_type": "code",
   "execution_count": 126,
   "metadata": {
    "scrolled": true
   },
   "outputs": [
    {
     "name": "stdout",
     "output_type": "stream",
     "text": [
      "['id', 'title', 'url', 'num_points', 'num_comments', 'author', 'created_at']\n"
     ]
    }
   ],
   "source": [
    "print(header)"
   ]
  },
  {
   "cell_type": "code",
   "execution_count": 127,
   "metadata": {},
   "outputs": [
    {
     "data": {
      "text/plain": [
       "20100"
      ]
     },
     "execution_count": 127,
     "metadata": {},
     "output_type": "execute_result"
    }
   ],
   "source": [
    "len(hn)"
   ]
  },
  {
   "cell_type": "markdown",
   "metadata": {},
   "source": [
    "#### Seperating post types into different lists\n",
    "concerned with post titles beginning with **Ask HN or Show HN**"
   ]
  },
  {
   "cell_type": "code",
   "execution_count": 128,
   "metadata": {},
   "outputs": [
    {
     "name": "stdout",
     "output_type": "stream",
     "text": [
      "1744\n",
      "['12296411', 'Ask HN: How to improve my personal website?', '', '2', '6', 'ahmedbaracat', '8/16/2016 9:55']\n",
      "1162\n",
      "['10627194', 'Show HN: Wio Link  ESP8266 Based Web of Things Hardware Development Platform', 'https://iot.seeed.cc', '26', '22', 'kfihihc', '11/25/2015 14:03']\n",
      "17194\n",
      "['12224879', 'Interactive Dynamic Video', 'http://www.interactivedynamicvideo.com/', '386', '52', 'ne0phyte', '8/4/2016 11:52']\n"
     ]
    }
   ],
   "source": [
    "ask_posts=[]\n",
    "show_posts=[]\n",
    "other_posts=[]\n",
    "\n",
    "for row in hn:\n",
    "    title=row[1]\n",
    "    lower_title=title.lower()\n",
    "    if lower_title.startswith('ask hn'):\n",
    "        ask_posts.append(row)\n",
    "    elif lower_title.startswith('show hn'):\n",
    "         show_posts.append(row)\n",
    "    else:\n",
    "        other_posts.append(row)\n",
    "        \n",
    "\n",
    "print(len(ask_posts))\n",
    "print(ask_posts[0])\n",
    "print(len(show_posts))\n",
    "print(show_posts[0])\n",
    "print(len(other_posts))\n",
    "print(other_posts[0])"
   ]
  },
  {
   "cell_type": "markdown",
   "metadata": {},
   "source": [
    "#### Determining if ask posts or show posts receive more comments on average."
   ]
  },
  {
   "cell_type": "markdown",
   "metadata": {},
   "source": [
    "##### Ask_post titles\n"
   ]
  },
  {
   "cell_type": "code",
   "execution_count": 129,
   "metadata": {},
   "outputs": [
    {
     "name": "stdout",
     "output_type": "stream",
     "text": [
      "Total number of comments received by all ask posts comment on hacker news is : 24,483\n",
      "\n",
      "\n",
      "The average for the number of comments for post titles starting with Ask Hn is 14.04\n"
     ]
    }
   ],
   "source": [
    "total_ask_comments=0\n",
    "\n",
    "for row in ask_posts:\n",
    "    total_ask_comments+=int(row[4])\n",
    "    \n",
    "print('Total number of comments received by all ask posts comment on hacker news is : {:,}'.format(total_ask_comments))\n",
    "\n",
    "print('\\n')\n",
    "\n",
    "avg_ask_comments=(total_ask_comments/len(ask_posts))\n",
    "print('The average for the number of comments for post titles starting with Ask Hn is {:,.2f}'.format(avg_ask_comments))\n"
   ]
  },
  {
   "cell_type": "markdown",
   "metadata": {},
   "source": [
    "Show_post titles"
   ]
  },
  {
   "cell_type": "code",
   "execution_count": 130,
   "metadata": {},
   "outputs": [
    {
     "name": "stdout",
     "output_type": "stream",
     "text": [
      "Total number of comments received by all show posts comment on hacker news is : 11,988\n",
      "\n",
      "\n",
      "The average for the number of comments for post titles starting with Show Hn is 10.32\n"
     ]
    }
   ],
   "source": [
    "total_show_comments=0\n",
    "\n",
    "for row in show_posts:\n",
    "    total_show_comments+=int(row[4])\n",
    "    \n",
    "print('Total number of comments received by all show posts comment on hacker news is : {:,}'.format(total_show_comments))\n",
    "\n",
    "print('\\n')\n",
    "\n",
    "avg_show_comments=(total_show_comments/len(show_posts))\n",
    "print('The average for the number of comments for post titles starting with Show Hn is {:,.2f}'.format(avg_show_comments))\n"
   ]
  },
  {
   "cell_type": "markdown",
   "metadata": {},
   "source": [
    "###### Comparing average for show post comments and ask post comments"
   ]
  },
  {
   "cell_type": "code",
   "execution_count": 131,
   "metadata": {},
   "outputs": [
    {
     "data": {
      "text/plain": [
       "False"
      ]
     },
     "execution_count": 131,
     "metadata": {},
     "output_type": "execute_result"
    }
   ],
   "source": [
    "avg_show_comments>avg_ask_comments"
   ]
  },
  {
   "cell_type": "markdown",
   "metadata": {},
   "source": [
    "#### CONCLUSION\n",
    "**False implies that the average number of comments for Ask hn post is more than that of Show hn posts**\n",
    "\n",
    "\n",
    "On average, ask posts in our sample receive approximately 14 comments, whereas show posts receive approximately 10. Since ask posts are more likely to receive comments, we'll focus our remaining analysis just on these posts."
   ]
  },
  {
   "cell_type": "markdown",
   "metadata": {},
   "source": [
    "#### Determine if ask posts created at a certain time are more likely to attract comments. We'll use the following steps to perform this analysis:\n",
    "\n",
    "1) Calculate the amount of ask posts created in each hour of the day, along with the number of comments received.\n",
    "\n",
    "2) Calculate the average number of comments ask posts receive by hour created."
   ]
  },
  {
   "cell_type": "code",
   "execution_count": 132,
   "metadata": {},
   "outputs": [],
   "source": [
    "import datetime as dt"
   ]
  },
  {
   "cell_type": "markdown",
   "metadata": {},
   "source": [
    "##### Seperating the information on the date and time as well as the the number of comments for each row from the entire dataset"
   ]
  },
  {
   "cell_type": "code",
   "execution_count": 133,
   "metadata": {},
   "outputs": [
    {
     "name": "stdout",
     "output_type": "stream",
     "text": [
      "[['8/16/2016 9:55', 6], ['11/22/2015 13:43', 29], ['5/2/2016 10:14', 1], ['8/2/2016 14:20', 3], ['10/15/2015 16:38', 17], ['9/26/2015 23:23', 1], ['4/22/2016 12:24', 4], ['11/16/2015 9:22', 1], ['2/24/2016 17:57', 1], ['6/4/2016 17:17', 2]]\n"
     ]
    }
   ],
   "source": [
    "#result_list is a list of containing the date/time for each post and the corresponding number of comments allocated to the post.\n",
    "result_list=[]\n",
    "\n",
    "for row in ask_posts:\n",
    "    date_time=row[6]\n",
    "    no_of_comments=int(row[4])\n",
    "    result_list.append([date_time,no_of_comments])\n",
    "\n",
    "print(result_list[0:10])"
   ]
  },
  {
   "cell_type": "markdown",
   "metadata": {},
   "source": [
    "#### Creating two dictionaries to relate each hour for each time to its total number of comments for the hour and also total number of posts for the hour"
   ]
  },
  {
   "cell_type": "code",
   "execution_count": 134,
   "metadata": {},
   "outputs": [
    {
     "name": "stdout",
     "output_type": "stream",
     "text": [
      "{'09': 45, '13': 85, '10': 59, '14': 107, '16': 108, '23': 68, '12': 73, '17': 100, '15': 116, '21': 109, '20': 80, '02': 58, '18': 109, '03': 54, '05': 46, '19': 110, '01': 60, '22': 71, '08': 48, '04': 47, '00': 55, '06': 44, '07': 34, '11': 58}\n",
      "\n",
      "\n",
      "{'09': 251, '13': 1253, '10': 793, '14': 1416, '16': 1814, '23': 543, '12': 687, '17': 1146, '15': 4477, '21': 1745, '20': 1722, '02': 1381, '18': 1439, '03': 421, '05': 464, '19': 1188, '01': 683, '22': 479, '08': 492, '04': 337, '00': 447, '06': 397, '07': 267, '11': 641}\n"
     ]
    }
   ],
   "source": [
    "#number of posts for each hour.ie 9o'clock we had ...number of posts\n",
    "counts_by_hour={}\n",
    "#number of comments for each hourie 9o'clock we had...number of comments\n",
    "comments_by_hour={}\n",
    "\n",
    "for row in result_list:\n",
    "    t1=dt.datetime.strptime(row[0],'%m/%d/%Y %H:%M')\n",
    "    h= t1.strftime('%H')\n",
    "    if h  in counts_by_hour:\n",
    "        counts_by_hour[h]+=1\n",
    "        comments_by_hour[h]+=row[1]\n",
    "    else:\n",
    "        counts_by_hour[h]=1\n",
    "        comments_by_hour[h]=row[1]\n",
    "\n",
    "        \n",
    "print(counts_by_hour)\n",
    "print('\\n')\n",
    "print(comments_by_hour)\n"
   ]
  },
  {
   "cell_type": "code",
   "execution_count": 135,
   "metadata": {},
   "outputs": [
    {
     "name": "stdout",
     "output_type": "stream",
     "text": [
      "[('00', 55), ('01', 60), ('02', 58), ('03', 54), ('04', 47), ('05', 46), ('06', 44), ('07', 34), ('08', 48), ('09', 45), ('10', 59), ('11', 58), ('12', 73), ('13', 85), ('14', 107), ('15', 116), ('16', 108), ('17', 100), ('18', 109), ('19', 110), ('20', 80), ('21', 109), ('22', 71), ('23', 68)]\n",
      "\n",
      "\n",
      "[('00', 447), ('01', 683), ('02', 1381), ('03', 421), ('04', 337), ('05', 464), ('06', 397), ('07', 267), ('08', 492), ('09', 251), ('10', 793), ('11', 641), ('12', 687), ('13', 1253), ('14', 1416), ('15', 4477), ('16', 1814), ('17', 1146), ('18', 1439), ('19', 1188), ('20', 1722), ('21', 1745), ('22', 479), ('23', 543)]\n"
     ]
    }
   ],
   "source": [
    "#converting counts_per_hour and comments per hour into a sorted list of lists\n",
    "\n",
    "list_counts_by_hour=[]\n",
    "list_comments_by_hour=[]\n",
    "\n",
    "for key,value in counts_by_hour.items():\n",
    "    list_counts_by_hour.append((key,value))\n",
    "print(sorted(list_counts_by_hour))\n",
    "\n",
    "print('\\n')\n",
    "\n",
    "for key,value in comments_by_hour.items():\n",
    "    list_comments_by_hour.append((key,value))\n",
    "print(sorted(list_comments_by_hour))"
   ]
  },
  {
   "cell_type": "markdown",
   "metadata": {},
   "source": [
    "#### CALCULATING THE AVERAGE NUMBER OF COMMENTS PER HOUR\n",
    "\n",
    "THAT WOULD BE THE TOTAL NUMBER OF COMMENTS FOR THAT HOUR/THE TOTAL NUMBER OF POSTS IN THAT HOUR"
   ]
  },
  {
   "cell_type": "code",
   "execution_count": 136,
   "metadata": {},
   "outputs": [
    {
     "data": {
      "text/plain": [
       "[['09', 5.5777777777777775],\n",
       " ['13', 14.741176470588234],\n",
       " ['10', 13.440677966101696],\n",
       " ['14', 13.233644859813085],\n",
       " ['16', 16.796296296296298],\n",
       " ['23', 7.985294117647059],\n",
       " ['12', 9.41095890410959],\n",
       " ['17', 11.46],\n",
       " ['15', 38.5948275862069],\n",
       " ['21', 16.009174311926607],\n",
       " ['20', 21.525],\n",
       " ['02', 23.810344827586206],\n",
       " ['18', 13.20183486238532],\n",
       " ['03', 7.796296296296297],\n",
       " ['05', 10.08695652173913],\n",
       " ['19', 10.8],\n",
       " ['01', 11.383333333333333],\n",
       " ['22', 6.746478873239437],\n",
       " ['08', 10.25],\n",
       " ['04', 7.170212765957447],\n",
       " ['00', 8.127272727272727],\n",
       " ['06', 9.022727272727273],\n",
       " ['07', 7.852941176470588],\n",
       " ['11', 11.051724137931034]]"
      ]
     },
     "execution_count": 136,
     "metadata": {},
     "output_type": "execute_result"
    }
   ],
   "source": [
    "#method 1\n",
    "avg_by_hour=[]\n",
    "for hour in comments_by_hour:\n",
    "    avg= comments_by_hour[hour]/counts_by_hour[hour]\n",
    "    avg_by_hour.append([hour,avg])\n",
    "avg_by_hour\n"
   ]
  },
  {
   "cell_type": "code",
   "execution_count": 137,
   "metadata": {},
   "outputs": [
    {
     "name": "stdout",
     "output_type": "stream",
     "text": [
      "[['00', 8.127272727272727], ['01', 11.383333333333333], ['02', 23.810344827586206], ['03', 7.796296296296297], ['04', 7.170212765957447], ['05', 10.08695652173913], ['06', 9.022727272727273], ['07', 7.852941176470588], ['08', 10.25], ['09', 5.5777777777777775], ['10', 13.440677966101696], ['11', 11.051724137931034], ['12', 9.41095890410959], ['13', 14.741176470588234], ['14', 13.233644859813085], ['15', 38.5948275862069], ['16', 16.796296296296298], ['17', 11.46], ['18', 13.20183486238532], ['19', 10.8], ['20', 21.525], ['21', 16.009174311926607], ['22', 6.746478873239437], ['23', 7.985294117647059]]\n"
     ]
    }
   ],
   "source": [
    "#method 2\n",
    "avg_by_hour=[]\n",
    "for key,value in counts_by_hour.items():\n",
    "    h=key\n",
    "    no_of_posts=value\n",
    "    for hour,comment_no in comments_by_hour.items():\n",
    "        if hour==h:\n",
    "            avg=comment_no/no_of_posts    \n",
    "            avg_by_hour.append([hour,avg])\n",
    "print(sorted(avg_by_hour))"
   ]
  },
  {
   "cell_type": "markdown",
   "metadata": {},
   "source": [
    "#### Although we now have the results we need, this format makes it hard to identify the hours with the highest values. Let's finish by sorting the list of lists and printing the five highest values in a format that's easier to read"
   ]
  },
  {
   "cell_type": "code",
   "execution_count": 147,
   "metadata": {},
   "outputs": [
    {
     "data": {
      "text/plain": [
       "[[38.5948275862069, '15'],\n",
       " [23.810344827586206, '02'],\n",
       " [21.525, '20'],\n",
       " [16.796296296296298, '16'],\n",
       " [16.009174311926607, '21'],\n",
       " [14.741176470588234, '13'],\n",
       " [13.440677966101696, '10'],\n",
       " [13.233644859813085, '14'],\n",
       " [13.20183486238532, '18'],\n",
       " [11.46, '17'],\n",
       " [11.383333333333333, '01'],\n",
       " [11.051724137931034, '11'],\n",
       " [10.8, '19'],\n",
       " [10.25, '08'],\n",
       " [10.08695652173913, '05'],\n",
       " [9.41095890410959, '12'],\n",
       " [9.022727272727273, '06'],\n",
       " [8.127272727272727, '00'],\n",
       " [7.985294117647059, '23'],\n",
       " [7.852941176470588, '07'],\n",
       " [7.796296296296297, '03'],\n",
       " [7.170212765957447, '04'],\n",
       " [6.746478873239437, '22'],\n",
       " [5.5777777777777775, '09']]"
      ]
     },
     "execution_count": 147,
     "metadata": {},
     "output_type": "execute_result"
    }
   ],
   "source": [
    "swap_avg_by_hour=[]\n",
    "\n",
    "for row in avg_by_hour:\n",
    "    swap_avg_by_hour.append([row[1],row[0]])\n",
    "sorted_swap=sorted(swap_avg_by_hour,reverse=True)\n",
    "sorted_swap"
   ]
  },
  {
   "cell_type": "code",
   "execution_count": 159,
   "metadata": {},
   "outputs": [
    {
     "name": "stdout",
     "output_type": "stream",
     "text": [
      "<class 'str'>\n",
      "<class 'str'>\n",
      "<class 'str'>\n",
      "<class 'str'>\n",
      "<class 'str'>\n",
      "['15:00', '02:00', '20:00', '16:00', '21:00']\n",
      "Top 5 Hours for Ask Posts Comments are ['15:00', '02:00', '20:00', '16:00', '21:00']\n"
     ]
    }
   ],
   "source": [
    "hour_in_order_of_highest_avg_comments=[]\n",
    "for row in sorted_swap[:5]:\n",
    "    hr=dt.time(int(row[1])).strftime('%H:%M')\n",
    "    print(type(hr))\n",
    "    hour_in_order_of_highest_avg_comments.append(hr)\n",
    "print(hour_in_order_of_highest_avg_comments)\n",
    "print(\"Top 5 Hours for Ask Posts Comments are {}\".format(hour_in_order_of_highest_avg_comments[0:5]))"
   ]
  },
  {
   "cell_type": "code",
   "execution_count": 161,
   "metadata": {},
   "outputs": [
    {
     "name": "stdout",
     "output_type": "stream",
     "text": [
      "15:00: 38.59 average comments per post\n",
      "02:00: 23.81 average comments per post\n",
      "20:00: 21.52 average comments per post\n",
      "16:00: 16.80 average comments per post\n",
      "21:00: 16.01 average comments per post\n"
     ]
    }
   ],
   "source": [
    "hour_in_order_of_highest_avg_comments=[]\n",
    "for row in sorted_swap[:5]:\n",
    "    hr=dt.time(int(row[1])).strftime('%H:%M')\n",
    "    average=row[0]\n",
    "    print('{0}: {1:.2f} average comments per post'.format(hr,average))\n",
    "    "
   ]
  },
  {
   "cell_type": "markdown",
   "metadata": {},
   "source": [
    "##### NOTE\n",
    "The Time Zone used according to the data set documentation <https://www.kaggle.com/hacker-news/hacker-news-posts is(the time zone is **Eastern Time in the US**"
   ]
  },
  {
   "cell_type": "markdown",
   "metadata": {},
   "source": [
    "###### Conclusion\n",
    "\n",
    "The hour that receives the most comments per post on average is 15:00, with an average of 38.59 comments per post. There's about a 60% increase in the number of comments between the hours with the highest and second highest average number of comments.\n",
    "\n",
    "According to the data set documentation, the timezone used is Eastern Time in the US. So, we could also write 15:00 as 3:00 pm est."
   ]
  },
  {
   "cell_type": "markdown",
   "metadata": {},
   "source": [
    "## OVERALL CONCLUSION\n",
    "\n",
    "In this project, we analyzed ask posts and show posts to determine which type of post and time receive the most comments on average. Based on our analysis, to maximize the amount of comments a post receives, we'd recommend the post be categorized as ask post and created between 15:00 and 16:00 (3:00 pm est - 4:00 pm est).\n",
    "\n",
    "However, it should be noted that the data set we analyzed excluded posts without any comments. Given that, it's more accurate to say that of the posts that received comments, ask posts received more comments on average and ask posts created between 15:00 and 16:00 (3:00 pm est - 4:00 pm est) received the most comments on average."
   ]
  },
  {
   "cell_type": "code",
   "execution_count": null,
   "metadata": {},
   "outputs": [],
   "source": []
  }
 ],
 "metadata": {
  "kernelspec": {
   "display_name": "Python 3",
   "language": "python",
   "name": "python3"
  },
  "language_info": {
   "codemirror_mode": {
    "name": "ipython",
    "version": 3
   },
   "file_extension": ".py",
   "mimetype": "text/x-python",
   "name": "python",
   "nbconvert_exporter": "python",
   "pygments_lexer": "ipython3",
   "version": "3.8.3"
  }
 },
 "nbformat": 4,
 "nbformat_minor": 4
}
