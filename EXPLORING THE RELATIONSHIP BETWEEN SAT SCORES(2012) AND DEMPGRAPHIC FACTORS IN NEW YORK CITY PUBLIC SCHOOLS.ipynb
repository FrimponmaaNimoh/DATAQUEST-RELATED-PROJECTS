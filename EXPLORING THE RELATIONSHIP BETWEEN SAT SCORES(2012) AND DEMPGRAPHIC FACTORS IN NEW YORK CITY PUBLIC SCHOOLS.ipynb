{
 "cells": [
  {
   "cell_type": "markdown",
   "metadata": {},
   "source": [
    "## EXPLORING THE RELATIONSHIP BETWEEN SAT SCORES(2012) AND DEMPGRAPHIC FACTORS IN NEW YORK CITY PUBLIC SCHOOLS.\n",
    "\n",
    "For a brief bit of background, the SAT, or Scholastic Aptitude Test, is a test that high school seniors in the U.S. take every year. The SAT has three sections, each is worth 800 points. Colleges use the SAT to determine which students to admit. High average SAT scores are usually indicative of a good school.\n",
    "\n",
    "New York City has published data on student SAT scores by high school, along with additional demographic datasets.source:https://data.cityofnewyork.us/browse?category=Education\n",
    "\n",
    "\n",
    "* SAT scores by school  - this is the SAT scores for each high school in New York City\n",
    "\n",
    "* School attendance - this is the Attendance information for each school in New York City\n",
    "\n",
    "* Class size - this is the Information on class size for each school\n",
    "\n",
    "* AP test results - this is the Advanced Placement (AP) exam results for each high school (passing an optional AP exam in a particular subject can earn a student college credit in that subject)\n",
    "\n",
    "* Graduation outcomes - this is the percentage of students who graduated and other outcome information\n",
    "\n",
    "* Demographics -this is the Demographic information for each school\n",
    "\n",
    "* School survey - this are the Surveys of parents, teachers, and students at each school\n",
    "\n",
    "\n",
    "New York City has a significant immigrant population and is very diverse, so comparing demographic factors such as race, income, and gender with SAT scores is a good way to determine whether the SAT is a fair test. For example, if certain racial groups consistently perform better on the SAT, we would have some evidence that the SAT is unfair.\n",
    "\n",
    "note\n",
    "* Only high school students take the SAT, so we'll want to focus on high schools.\n",
    "\n",
    "* New York City is made up of five boroughs, which are essentially distinct regions.\n",
    "\n",
    "* New York City schools fall within several different school districts, each of which can contains dozens of schools.\n",
    "\n",
    "* Our datasets include several different types of schools. We'll need to clean them so that we can focus on high schools only.\n",
    "\n",
    "* Each school in New York City has a unique code called a DBN or district borough number.\n",
    "\n",
    "* Aggregating data by district allows us to use the district mapping data to plot district-by-district differences."
   ]
  },
  {
   "cell_type": "markdown",
   "metadata": {},
   "source": [
    "### Read in the data"
   ]
  },
  {
   "cell_type": "code",
   "execution_count": 1,
   "metadata": {},
   "outputs": [],
   "source": [
    "import pandas as pd\n",
    "import numpy as np\n",
    "import re\n",
    "\n",
    "data_files = [\n",
    "    \"ap_2010.csv\",\n",
    "    \"class_size.csv\",\n",
    "    \"demographics.csv\",\n",
    "    \"graduation.csv\",\n",
    "    \"hs_directory.csv\",\n",
    "    \"sat_results.csv\"\n",
    "]\n",
    "\n",
    "data = {}\n",
    "\n",
    "for f in data_files:\n",
    "    d = pd.read_csv(\"schools/{0}\".format(f))\n",
    "    data[f.replace(\".csv\", \"\")] = d"
   ]
  },
  {
   "cell_type": "code",
   "execution_count": 2,
   "metadata": {},
   "outputs": [
    {
     "data": {
      "text/plain": [
       "dict_keys(['ap_2010', 'class_size', 'demographics', 'graduation', 'hs_directory', 'sat_results'])"
      ]
     },
     "execution_count": 2,
     "metadata": {},
     "output_type": "execute_result"
    }
   ],
   "source": [
    "data.keys()"
   ]
  },
  {
   "cell_type": "code",
   "execution_count": 3,
   "metadata": {},
   "outputs": [
    {
     "data": {
      "text/plain": [
       "Index(['dbn', 'school_name', 'boro', 'building_code', 'phone_number',\n",
       "       'fax_number', 'grade_span_min', 'grade_span_max', 'expgrade_span_min',\n",
       "       'expgrade_span_max', 'bus', 'subway', 'primary_address_line_1', 'city',\n",
       "       'state_code', 'zip', 'website', 'total_students', 'campus_name',\n",
       "       'school_type', 'overview_paragraph', 'program_highlights',\n",
       "       'language_classes', 'advancedplacement_courses', 'online_ap_courses',\n",
       "       'online_language_courses', 'extracurricular_activities',\n",
       "       'psal_sports_boys', 'psal_sports_girls', 'psal_sports_coed',\n",
       "       'school_sports', 'partner_cbo', 'partner_hospital', 'partner_highered',\n",
       "       'partner_cultural', 'partner_nonprofit', 'partner_corporate',\n",
       "       'partner_financial', 'partner_other', 'addtl_info1', 'addtl_info2',\n",
       "       'start_time', 'end_time', 'se_services', 'ell_programs',\n",
       "       'school_accessibility_description', 'number_programs', 'priority01',\n",
       "       'priority02', 'priority03', 'priority04', 'priority05', 'priority06',\n",
       "       'priority07', 'priority08', 'priority09', 'priority10', 'Location 1'],\n",
       "      dtype='object')"
      ]
     },
     "execution_count": 3,
     "metadata": {},
     "output_type": "execute_result"
    }
   ],
   "source": [
    "data[\"hs_directory\"].columns"
   ]
  },
  {
   "cell_type": "markdown",
   "metadata": {},
   "source": [
    "### Read in the surveys"
   ]
  },
  {
   "cell_type": "code",
   "execution_count": 4,
   "metadata": {},
   "outputs": [],
   "source": [
    "all_survey = pd.read_csv(\"schools/survey_all.txt\", delimiter=\"\\t\", encoding='windows-1252')\n",
    "d75_survey = pd.read_csv(\"schools/survey_d75.txt\", delimiter=\"\\t\", encoding='windows-1252')\n",
    "survey = pd.concat([all_survey, d75_survey], axis=0)"
   ]
  },
  {
   "cell_type": "code",
   "execution_count": 5,
   "metadata": {},
   "outputs": [
    {
     "name": "stdout",
     "output_type": "stream",
     "text": [
      "<class 'pandas.core.frame.DataFrame'>\n",
      "Int64Index: 1702 entries, 0 to 55\n",
      "Columns: 2773 entries, dbn to s_q14_11\n",
      "dtypes: float64(2762), int64(6), object(5)\n",
      "memory usage: 36.0+ MB\n"
     ]
    }
   ],
   "source": [
    "survey.info()"
   ]
  },
  {
   "cell_type": "markdown",
   "metadata": {},
   "source": [
    "##### observations\n",
    "\n",
    "* There are 2773 columns, nearly all of which we don't need. We'll have to filter the data to remove the unnecessary ones. Working with fewer columns makes it easier to print the dataframe out and find correlations within it.\n",
    "\n",
    "* The survey data has a dbn column that we'll want to convert to uppercase (DBN). The conversion makes the column name consistent with the other data sets."
   ]
  },
  {
   "cell_type": "code",
   "execution_count": 6,
   "metadata": {},
   "outputs": [
    {
     "data": {
      "text/plain": [
       "dict_keys(['ap_2010', 'class_size', 'demographics', 'graduation', 'hs_directory', 'sat_results', 'survey'])"
      ]
     },
     "execution_count": 6,
     "metadata": {},
     "output_type": "execute_result"
    }
   ],
   "source": [
    "#since this data would be merge with other datas which have column name \"DBN\" that of the survey column was changed from \"dbn\" to \"DBN\"\n",
    "survey[\"DBN\"]=survey[\"dbn\"]\n",
    "\n",
    "survey_columns=[\"DBN\", \"rr_s\", \"rr_t\", \"rr_p\", \"N_s\", \"N_t\", \"N_p\", \"saf_p_11\", \"com_p_11\", \"eng_p_11\", \"aca_p_11\", \"saf_t_11\", \"com_t_11\", \"eng_t_11\", \"aca_t_11\", \"saf_s_11\", \"com_s_11\", \"eng_s_11\", \"aca_s_11\", \"saf_tot_11\", \"com_tot_11\", \"eng_tot_11\", \"aca_tot_11\"]\n",
    "\n",
    "survey=survey.loc[:,survey_columns]\n",
    "\n",
    "data[\"survey\"]=survey\n",
    "\n",
    "data.keys()"
   ]
  },
  {
   "cell_type": "markdown",
   "metadata": {},
   "source": [
    "### Add DBN columns\n",
    "\n",
    "Since all the datasets would be merged using the DBN column, all the datasets must have this column.columns like class_size and hs_directory, don't have a DBN column. \n",
    "\n",
    "* hs_directory does have a dbn column, though, so we can just rename it.\n",
    "\n",
    "\n",
    "* DBN for Class_size data is just the combination of the CSD and SCHOOL CODE columns. However the CSD column must be padded to add a leading 0 to the CSD if the CSD is less than two digits long before combining the two columns"
   ]
  },
  {
   "cell_type": "code",
   "execution_count": 7,
   "metadata": {},
   "outputs": [
    {
     "name": "stdout",
     "output_type": "stream",
     "text": [
      "<class 'pandas.core.frame.DataFrame'>\n",
      "RangeIndex: 435 entries, 0 to 434\n",
      "Data columns (total 58 columns):\n",
      " #   Column                            Non-Null Count  Dtype  \n",
      "---  ------                            --------------  -----  \n",
      " 0   dbn                               435 non-null    object \n",
      " 1   school_name                       435 non-null    object \n",
      " 2   boro                              435 non-null    object \n",
      " 3   building_code                     435 non-null    object \n",
      " 4   phone_number                      435 non-null    object \n",
      " 5   fax_number                        423 non-null    object \n",
      " 6   grade_span_min                    435 non-null    object \n",
      " 7   grade_span_max                    435 non-null    int64  \n",
      " 8   expgrade_span_min                 33 non-null     object \n",
      " 9   expgrade_span_max                 33 non-null     float64\n",
      " 10  bus                               434 non-null    object \n",
      " 11  subway                            358 non-null    object \n",
      " 12  primary_address_line_1            435 non-null    object \n",
      " 13  city                              435 non-null    object \n",
      " 14  state_code                        435 non-null    object \n",
      " 15  zip                               435 non-null    int64  \n",
      " 16  website                           430 non-null    object \n",
      " 17  total_students                    426 non-null    float64\n",
      " 18  campus_name                       217 non-null    object \n",
      " 19  school_type                       104 non-null    object \n",
      " 20  overview_paragraph                434 non-null    object \n",
      " 21  program_highlights                434 non-null    object \n",
      " 22  language_classes                  412 non-null    object \n",
      " 23  advancedplacement_courses         340 non-null    object \n",
      " 24  online_ap_courses                 64 non-null     object \n",
      " 25  online_language_courses           73 non-null     object \n",
      " 26  extracurricular_activities        435 non-null    object \n",
      " 27  psal_sports_boys                  380 non-null    object \n",
      " 28  psal_sports_girls                 373 non-null    object \n",
      " 29  psal_sports_coed                  147 non-null    object \n",
      " 30  school_sports                     297 non-null    object \n",
      " 31  partner_cbo                       354 non-null    object \n",
      " 32  partner_hospital                  196 non-null    object \n",
      " 33  partner_highered                  378 non-null    object \n",
      " 34  partner_cultural                  305 non-null    object \n",
      " 35  partner_nonprofit                 297 non-null    object \n",
      " 36  partner_corporate                 198 non-null    object \n",
      " 37  partner_financial                 72 non-null     object \n",
      " 38  partner_other                     188 non-null    object \n",
      " 39  addtl_info1                       354 non-null    object \n",
      " 40  addtl_info2                       229 non-null    object \n",
      " 41  start_time                        431 non-null    object \n",
      " 42  end_time                          431 non-null    object \n",
      " 43  se_services                       435 non-null    object \n",
      " 44  ell_programs                      435 non-null    object \n",
      " 45  school_accessibility_description  435 non-null    object \n",
      " 46  number_programs                   435 non-null    int64  \n",
      " 47  priority01                        435 non-null    object \n",
      " 48  priority02                        352 non-null    object \n",
      " 49  priority03                        243 non-null    object \n",
      " 50  priority04                        177 non-null    object \n",
      " 51  priority05                        39 non-null     object \n",
      " 52  priority06                        17 non-null     object \n",
      " 53  priority07                        4 non-null      object \n",
      " 54  priority08                        1 non-null      object \n",
      " 55  priority09                        1 non-null      object \n",
      " 56  priority10                        1 non-null      object \n",
      " 57  Location 1                        435 non-null    object \n",
      "dtypes: float64(2), int64(3), object(53)\n",
      "memory usage: 197.2+ KB\n"
     ]
    }
   ],
   "source": [
    "data[\"hs_directory\"].info()"
   ]
  },
  {
   "cell_type": "code",
   "execution_count": 8,
   "metadata": {},
   "outputs": [
    {
     "name": "stdout",
     "output_type": "stream",
     "text": [
      "   CSD BOROUGH SCHOOL CODE                SCHOOL NAME GRADE  PROGRAM TYPE  \\\n",
      "0    1       M        M015  P.S. 015 Roberto Clemente     0K       GEN ED   \n",
      "1    1       M        M015  P.S. 015 Roberto Clemente     0K          CTT   \n",
      "2    1       M        M015  P.S. 015 Roberto Clemente     01       GEN ED   \n",
      "3    1       M        M015  P.S. 015 Roberto Clemente     01          CTT   \n",
      "4    1       M        M015  P.S. 015 Roberto Clemente     02       GEN ED   \n",
      "\n",
      "  CORE SUBJECT (MS CORE and 9-12 ONLY) CORE COURSE (MS CORE and 9-12 ONLY)  \\\n",
      "0                                    -                                   -   \n",
      "1                                    -                                   -   \n",
      "2                                    -                                   -   \n",
      "3                                    -                                   -   \n",
      "4                                    -                                   -   \n",
      "\n",
      "  SERVICE CATEGORY(K-9* ONLY)  NUMBER OF STUDENTS / SEATS FILLED  \\\n",
      "0                           -                               19.0   \n",
      "1                           -                               21.0   \n",
      "2                           -                               17.0   \n",
      "3                           -                               17.0   \n",
      "4                           -                               15.0   \n",
      "\n",
      "   NUMBER OF SECTIONS  AVERAGE CLASS SIZE  SIZE OF SMALLEST CLASS  \\\n",
      "0                 1.0                19.0                    19.0   \n",
      "1                 1.0                21.0                    21.0   \n",
      "2                 1.0                17.0                    17.0   \n",
      "3                 1.0                17.0                    17.0   \n",
      "4                 1.0                15.0                    15.0   \n",
      "\n",
      "   SIZE OF LARGEST CLASS DATA SOURCE  SCHOOLWIDE PUPIL-TEACHER RATIO  \\\n",
      "0                   19.0         ATS                             NaN   \n",
      "1                   21.0         ATS                             NaN   \n",
      "2                   17.0         ATS                             NaN   \n",
      "3                   17.0         ATS                             NaN   \n",
      "4                   15.0         ATS                             NaN   \n",
      "\n",
      "  padded_csd     DBN  \n",
      "0         01  01M015  \n",
      "1         01  01M015  \n",
      "2         01  01M015  \n",
      "3         01  01M015  \n",
      "4         01  01M015  \n"
     ]
    }
   ],
   "source": [
    "data[\"hs_directory\"][\"DBN\"]=data[\"hs_directory\"][\"dbn\"]\n",
    "\n",
    "\n",
    "def addlead0(number):\n",
    "    if len(str(number))==1:\n",
    "        return str(0)+str(number)\n",
    "    else:\n",
    "        return str(number)\n",
    "\n",
    "data[\"class_size\"][\"padded_csd\"]=data[\"class_size\"][\"CSD\"].apply(addlead0)\n",
    "data[\"class_size\"][\"DBN\"]=data[\"class_size\"][\"padded_csd\"] +data[\"class_size\"][\"SCHOOL CODE\"] \n",
    "\n",
    "print(data[\"class_size\"].head())"
   ]
  },
  {
   "cell_type": "markdown",
   "metadata": {},
   "source": [
    "### COMBINING THE SAT SCORE\n",
    "\n",
    "combining the three columns that contain SAT scores -- SAT Critical Reading Avg. Score, SAT Math Avg. Score, and SAT Writing Avg. Score -- into a single column to make the scores easier to analyze."
   ]
  },
  {
   "cell_type": "code",
   "execution_count": 9,
   "metadata": {},
   "outputs": [
    {
     "name": "stdout",
     "output_type": "stream",
     "text": [
      "<class 'pandas.core.frame.DataFrame'>\n",
      "RangeIndex: 478 entries, 0 to 477\n",
      "Data columns (total 6 columns):\n",
      " #   Column                           Non-Null Count  Dtype \n",
      "---  ------                           --------------  ----- \n",
      " 0   DBN                              478 non-null    object\n",
      " 1   SCHOOL NAME                      478 non-null    object\n",
      " 2   Num of SAT Test Takers           478 non-null    object\n",
      " 3   SAT Critical Reading Avg. Score  478 non-null    object\n",
      " 4   SAT Math Avg. Score              478 non-null    object\n",
      " 5   SAT Writing Avg. Score           478 non-null    object\n",
      "dtypes: object(6)\n",
      "memory usage: 22.5+ KB\n"
     ]
    }
   ],
   "source": [
    "# these columns are currently string objects. it must be converted to a numeric type before adding up the columns\n",
    "\n",
    "data[\"sat_results\"].info()"
   ]
  },
  {
   "cell_type": "code",
   "execution_count": 10,
   "metadata": {},
   "outputs": [
    {
     "name": "stdout",
     "output_type": "stream",
     "text": [
      "<class 'pandas.core.frame.DataFrame'>\n",
      "RangeIndex: 478 entries, 0 to 477\n",
      "Data columns (total 7 columns):\n",
      " #   Column                           Non-Null Count  Dtype  \n",
      "---  ------                           --------------  -----  \n",
      " 0   DBN                              478 non-null    object \n",
      " 1   SCHOOL NAME                      478 non-null    object \n",
      " 2   Num of SAT Test Takers           478 non-null    object \n",
      " 3   SAT Critical Reading Avg. Score  421 non-null    float64\n",
      " 4   SAT Math Avg. Score              421 non-null    float64\n",
      " 5   SAT Writing Avg. Score           421 non-null    float64\n",
      " 6   sat_score                        478 non-null    float64\n",
      "dtypes: float64(4), object(3)\n",
      "memory usage: 26.3+ KB\n"
     ]
    }
   ],
   "source": [
    "data[\"sat_results\"][\"SAT Math Avg. Score\"]=pd.to_numeric(data[\"sat_results\"][\"SAT Math Avg. Score\"],errors=\"coerce\")\n",
    "\n",
    "data[\"sat_results\"][\"SAT Critical Reading Avg. Score\"]=pd.to_numeric(data[\"sat_results\"][\"SAT Critical Reading Avg. Score\"],errors=\"coerce\")\n",
    "\n",
    "data[\"sat_results\"][\"SAT Writing Avg. Score\"]=pd.to_numeric(data[\"sat_results\"][\"SAT Writing Avg. Score\"],errors=\"coerce\")\n",
    "\n",
    "data[\"sat_results\"][\"sat_score\"]=data[\"sat_results\"][[\"SAT Writing Avg. Score\",\"SAT Math Avg. Score\",\"SAT Critical Reading Avg. Score\"]].sum(axis=1)\n",
    "\n",
    "\n",
    "data[\"sat_results\"].info()"
   ]
  },
  {
   "cell_type": "markdown",
   "metadata": {},
   "source": [
    "### Parsing Geographic coordinates for the schools\n",
    "\n",
    "parse the latitude and longitude coordinates for each school. This enables us to map the schools and uncover any geographic patterns in the data. The coordinates are currently in the text field *Location 1* in the *hs_directory* dataset."
   ]
  },
  {
   "cell_type": "code",
   "execution_count": 11,
   "metadata": {},
   "outputs": [
    {
     "data": {
      "text/plain": [
       "0      883 Classon Avenue\\nBrooklyn, NY 11225\\n(40.67...\n",
       "1      1110 Boston Road\\nBronx, NY 10456\\n(40.8276026...\n",
       "2      1501 Jerome Avenue\\nBronx, NY 10452\\n(40.84241...\n",
       "3      411 Pearl Street\\nNew York, NY 10038\\n(40.7106...\n",
       "4      160-20 Goethals Avenue\\nJamaica, NY 11432\\n(40...\n",
       "                             ...                        \n",
       "430    2225 Webster Avenue\\nBronx, NY 10457\\n(40.8546...\n",
       "431    925 Astor Avenue\\nBronx, NY 10469\\n(40.8596983...\n",
       "432    800 East Gun Hill Road\\nBronx, NY 10467\\n(40.8...\n",
       "433    26 Broadway\\nNew York, NY 10004\\n(40.705234939...\n",
       "434    149-11 Melbourne Avenue\\nFlushing, NY 11367\\n(...\n",
       "Name: Location 1, Length: 435, dtype: object"
      ]
     },
     "execution_count": 11,
     "metadata": {},
     "output_type": "execute_result"
    }
   ],
   "source": [
    "data[\"hs_directory\"][\"Location 1\"]"
   ]
  },
  {
   "cell_type": "code",
   "execution_count": 12,
   "metadata": {},
   "outputs": [
    {
     "data": {
      "text/plain": [
       "0       40.67029890700047\n",
       "1        40.8276026690005\n",
       "2      40.842414068000494\n",
       "3       40.71067947100045\n",
       "4      40.718810094000446\n",
       "              ...        \n",
       "430     40.85464659900049\n",
       "431     40.85969831600045\n",
       "432     40.87575421100047\n",
       "433     40.70523493900049\n",
       "434     40.73440841000047\n",
       "Name: lat, Length: 435, dtype: object"
      ]
     },
     "execution_count": 12,
     "metadata": {},
     "output_type": "execute_result"
    }
   ],
   "source": [
    "#extracting latitude and longitude coordinates from Location 1 \n",
    "\n",
    "def findlat(string):\n",
    "    a=re.findall(\"\\((.+)\\)\",string)\n",
    "    b=a[0].split(\",\")\n",
    "    return b[0]\n",
    "                   \n",
    "\n",
    "data[\"hs_directory\"][\"lat\"]=data[\"hs_directory\"][\"Location 1\"].apply(findlat)\n",
    "\n",
    "data[\"hs_directory\"][\"lat\"]"
   ]
  },
  {
   "cell_type": "code",
   "execution_count": 13,
   "metadata": {},
   "outputs": [
    {
     "data": {
      "text/plain": [
       "0      -73.96164787599963\n",
       "1      -73.90447525699966\n",
       "2      -73.91616158599965\n",
       "3      -74.00080702099967\n",
       "4      -73.80650045499965\n",
       "              ...        \n",
       "430    -73.89664555299964\n",
       "431    -73.86074140399967\n",
       "432    -73.86138783399963\n",
       "433    -74.01331503999967\n",
       "434    -73.82141748299966\n",
       "Name: lon, Length: 435, dtype: object"
      ]
     },
     "execution_count": 13,
     "metadata": {},
     "output_type": "execute_result"
    }
   ],
   "source": [
    "def findlon(string):\n",
    "    a=re.findall(\"\\((.+)\\)\",string)\n",
    "    b=a[0].split(\",\")\n",
    "    return (b[1].replace(\" \",\"\"))\n",
    "\n",
    "data[\"hs_directory\"][\"lon\"]=data[\"hs_directory\"][\"Location 1\"].apply(findlon)\n",
    "data[\"hs_directory\"][\"lon\"]"
   ]
  },
  {
   "cell_type": "code",
   "execution_count": 14,
   "metadata": {},
   "outputs": [
    {
     "name": "stdout",
     "output_type": "stream",
     "text": [
      "<class 'pandas.core.frame.DataFrame'>\n",
      "RangeIndex: 435 entries, 0 to 434\n",
      "Data columns (total 61 columns):\n",
      " #   Column                            Non-Null Count  Dtype  \n",
      "---  ------                            --------------  -----  \n",
      " 0   dbn                               435 non-null    object \n",
      " 1   school_name                       435 non-null    object \n",
      " 2   boro                              435 non-null    object \n",
      " 3   building_code                     435 non-null    object \n",
      " 4   phone_number                      435 non-null    object \n",
      " 5   fax_number                        423 non-null    object \n",
      " 6   grade_span_min                    435 non-null    object \n",
      " 7   grade_span_max                    435 non-null    int64  \n",
      " 8   expgrade_span_min                 33 non-null     object \n",
      " 9   expgrade_span_max                 33 non-null     float64\n",
      " 10  bus                               434 non-null    object \n",
      " 11  subway                            358 non-null    object \n",
      " 12  primary_address_line_1            435 non-null    object \n",
      " 13  city                              435 non-null    object \n",
      " 14  state_code                        435 non-null    object \n",
      " 15  zip                               435 non-null    int64  \n",
      " 16  website                           430 non-null    object \n",
      " 17  total_students                    426 non-null    float64\n",
      " 18  campus_name                       217 non-null    object \n",
      " 19  school_type                       104 non-null    object \n",
      " 20  overview_paragraph                434 non-null    object \n",
      " 21  program_highlights                434 non-null    object \n",
      " 22  language_classes                  412 non-null    object \n",
      " 23  advancedplacement_courses         340 non-null    object \n",
      " 24  online_ap_courses                 64 non-null     object \n",
      " 25  online_language_courses           73 non-null     object \n",
      " 26  extracurricular_activities        435 non-null    object \n",
      " 27  psal_sports_boys                  380 non-null    object \n",
      " 28  psal_sports_girls                 373 non-null    object \n",
      " 29  psal_sports_coed                  147 non-null    object \n",
      " 30  school_sports                     297 non-null    object \n",
      " 31  partner_cbo                       354 non-null    object \n",
      " 32  partner_hospital                  196 non-null    object \n",
      " 33  partner_highered                  378 non-null    object \n",
      " 34  partner_cultural                  305 non-null    object \n",
      " 35  partner_nonprofit                 297 non-null    object \n",
      " 36  partner_corporate                 198 non-null    object \n",
      " 37  partner_financial                 72 non-null     object \n",
      " 38  partner_other                     188 non-null    object \n",
      " 39  addtl_info1                       354 non-null    object \n",
      " 40  addtl_info2                       229 non-null    object \n",
      " 41  start_time                        431 non-null    object \n",
      " 42  end_time                          431 non-null    object \n",
      " 43  se_services                       435 non-null    object \n",
      " 44  ell_programs                      435 non-null    object \n",
      " 45  school_accessibility_description  435 non-null    object \n",
      " 46  number_programs                   435 non-null    int64  \n",
      " 47  priority01                        435 non-null    object \n",
      " 48  priority02                        352 non-null    object \n",
      " 49  priority03                        243 non-null    object \n",
      " 50  priority04                        177 non-null    object \n",
      " 51  priority05                        39 non-null     object \n",
      " 52  priority06                        17 non-null     object \n",
      " 53  priority07                        4 non-null      object \n",
      " 54  priority08                        1 non-null      object \n",
      " 55  priority09                        1 non-null      object \n",
      " 56  priority10                        1 non-null      object \n",
      " 57  Location 1                        435 non-null    object \n",
      " 58  DBN                               435 non-null    object \n",
      " 59  lat                               435 non-null    object \n",
      " 60  lon                               435 non-null    object \n",
      "dtypes: float64(2), int64(3), object(56)\n",
      "memory usage: 207.4+ KB\n"
     ]
    }
   ],
   "source": [
    "data[\"hs_directory\"].info()"
   ]
  },
  {
   "cell_type": "markdown",
   "metadata": {},
   "source": [
    " ##### converting the latitude and longitude to numeric values. We can use the pandas.to_numeric() function to convert them from strings to numbers."
   ]
  },
  {
   "cell_type": "code",
   "execution_count": 15,
   "metadata": {},
   "outputs": [],
   "source": [
    "data[\"hs_directory\"][\"lon\"]=pd.to_numeric(data[\"hs_directory\"][\"lon\"],errors=\"coerce\")\n",
    "\n",
    "data[\"hs_directory\"][\"lat\"]=pd.to_numeric(data[\"hs_directory\"][\"lat\"],errors=\"coerce\")"
   ]
  },
  {
   "cell_type": "code",
   "execution_count": 16,
   "metadata": {},
   "outputs": [
    {
     "data": {
      "text/plain": [
       "dtype('float64')"
      ]
     },
     "execution_count": 16,
     "metadata": {},
     "output_type": "execute_result"
    }
   ],
   "source": [
    "data[\"hs_directory\"][\"lon\"].dtype"
   ]
  },
  {
   "cell_type": "code",
   "execution_count": 17,
   "metadata": {},
   "outputs": [
    {
     "data": {
      "text/plain": [
       "dtype('float64')"
      ]
     },
     "execution_count": 17,
     "metadata": {},
     "output_type": "execute_result"
    }
   ],
   "source": [
    "data[\"hs_directory\"][\"lat\"].dtype"
   ]
  },
  {
   "cell_type": "markdown",
   "metadata": {},
   "source": [
    "### GROUPING \n",
    "\n",
    "class_size, graduation and demographics datasets dont have a unique DBN . This would cause issues when we merge all the datasets together.\n",
    "\n",
    "* class size dataset\n",
    "  schools has multiple values for GRADE, PROGRAM TYPE, CORE SUBJECT (MS CORE and 9-12 ONLY), and CORE COURSE (MS CORE and 9-12   ONLY),hence the multiple DBN.\n",
    "  1)Grade\n",
    "   we're only concerned with grades 9 through 12. That means we only want to pick rows where the     value in the GRADE            column is 09-12.\n",
    "  \n",
    "  2)program type\n",
    "  Each school can have multiple program types. Since GEN ED is the largest category by far, let's only select rows where         PROGRAM TYPE is GEN ED.\n",
    "  \n",
    "  3)CORE COURSE (MS CORE and 9-12 ONLY) and CORE SUBJECT (MS CORE and 9-12 ONLY).This column only seems to include certain         subjects. We want our class size data to include every single class a school offers -- not just a subset of them. What we       can do is take the average across all of the classes a school offers. This gives us unique DBN values, while also \n",
    "    incorporating as much data as possible into the average.\n",
    "    \n",
    "  \n",
    "* Demographics dataset\n",
    "\n",
    "   In this dataset, the only column that prevents a given DBN from being unique is schoolyear. We only want to select rows        where schoolyear is 20112012. This will give us the most recent year of data, and also match our SAT results data.\n",
    "   \n",
    "  \n",
    "* Graduation dataset\n",
    "\n",
    "    the Demographic and Cohort columns are what prevent DBN from being unique in the graduation data. A Cohort appears to refer     to the year the data represents, and the Demographic appears to refer to a specific demographic group. In this case, we         want to pick data from the most recent Cohort available, which is 2006. We also want data from the full cohort, so we'll       only pick rows where Demographic is Total Cohort."
   ]
  },
  {
   "cell_type": "code",
   "execution_count": 18,
   "metadata": {},
   "outputs": [
    {
     "data": {
      "text/html": [
       "<div>\n",
       "<style scoped>\n",
       "    .dataframe tbody tr th:only-of-type {\n",
       "        vertical-align: middle;\n",
       "    }\n",
       "\n",
       "    .dataframe tbody tr th {\n",
       "        vertical-align: top;\n",
       "    }\n",
       "\n",
       "    .dataframe thead th {\n",
       "        text-align: right;\n",
       "    }\n",
       "</style>\n",
       "<table border=\"1\" class=\"dataframe\">\n",
       "  <thead>\n",
       "    <tr style=\"text-align: right;\">\n",
       "      <th></th>\n",
       "      <th>CSD</th>\n",
       "      <th>BOROUGH</th>\n",
       "      <th>SCHOOL CODE</th>\n",
       "      <th>SCHOOL NAME</th>\n",
       "      <th>GRADE</th>\n",
       "      <th>PROGRAM TYPE</th>\n",
       "      <th>CORE SUBJECT (MS CORE and 9-12 ONLY)</th>\n",
       "      <th>CORE COURSE (MS CORE and 9-12 ONLY)</th>\n",
       "      <th>SERVICE CATEGORY(K-9* ONLY)</th>\n",
       "      <th>NUMBER OF STUDENTS / SEATS FILLED</th>\n",
       "      <th>NUMBER OF SECTIONS</th>\n",
       "      <th>AVERAGE CLASS SIZE</th>\n",
       "      <th>SIZE OF SMALLEST CLASS</th>\n",
       "      <th>SIZE OF LARGEST CLASS</th>\n",
       "      <th>DATA SOURCE</th>\n",
       "      <th>SCHOOLWIDE PUPIL-TEACHER RATIO</th>\n",
       "      <th>padded_csd</th>\n",
       "      <th>DBN</th>\n",
       "    </tr>\n",
       "  </thead>\n",
       "  <tbody>\n",
       "    <tr>\n",
       "      <th>225</th>\n",
       "      <td>1</td>\n",
       "      <td>M</td>\n",
       "      <td>M292</td>\n",
       "      <td>Henry Street School for International Studies</td>\n",
       "      <td>09-12</td>\n",
       "      <td>GEN ED</td>\n",
       "      <td>ENGLISH</td>\n",
       "      <td>English 9</td>\n",
       "      <td>-</td>\n",
       "      <td>63.0</td>\n",
       "      <td>3.0</td>\n",
       "      <td>21.0</td>\n",
       "      <td>19.0</td>\n",
       "      <td>25.0</td>\n",
       "      <td>STARS</td>\n",
       "      <td>NaN</td>\n",
       "      <td>01</td>\n",
       "      <td>01M292</td>\n",
       "    </tr>\n",
       "    <tr>\n",
       "      <th>226</th>\n",
       "      <td>1</td>\n",
       "      <td>M</td>\n",
       "      <td>M292</td>\n",
       "      <td>Henry Street School for International Studies</td>\n",
       "      <td>09-12</td>\n",
       "      <td>GEN ED</td>\n",
       "      <td>ENGLISH</td>\n",
       "      <td>English 10</td>\n",
       "      <td>-</td>\n",
       "      <td>79.0</td>\n",
       "      <td>3.0</td>\n",
       "      <td>26.3</td>\n",
       "      <td>24.0</td>\n",
       "      <td>31.0</td>\n",
       "      <td>STARS</td>\n",
       "      <td>NaN</td>\n",
       "      <td>01</td>\n",
       "      <td>01M292</td>\n",
       "    </tr>\n",
       "    <tr>\n",
       "      <th>227</th>\n",
       "      <td>1</td>\n",
       "      <td>M</td>\n",
       "      <td>M292</td>\n",
       "      <td>Henry Street School for International Studies</td>\n",
       "      <td>09-12</td>\n",
       "      <td>GEN ED</td>\n",
       "      <td>ENGLISH</td>\n",
       "      <td>English 11</td>\n",
       "      <td>-</td>\n",
       "      <td>38.0</td>\n",
       "      <td>2.0</td>\n",
       "      <td>19.0</td>\n",
       "      <td>16.0</td>\n",
       "      <td>22.0</td>\n",
       "      <td>STARS</td>\n",
       "      <td>NaN</td>\n",
       "      <td>01</td>\n",
       "      <td>01M292</td>\n",
       "    </tr>\n",
       "    <tr>\n",
       "      <th>228</th>\n",
       "      <td>1</td>\n",
       "      <td>M</td>\n",
       "      <td>M292</td>\n",
       "      <td>Henry Street School for International Studies</td>\n",
       "      <td>09-12</td>\n",
       "      <td>GEN ED</td>\n",
       "      <td>ENGLISH</td>\n",
       "      <td>English 12</td>\n",
       "      <td>-</td>\n",
       "      <td>69.0</td>\n",
       "      <td>3.0</td>\n",
       "      <td>23.0</td>\n",
       "      <td>13.0</td>\n",
       "      <td>30.0</td>\n",
       "      <td>STARS</td>\n",
       "      <td>NaN</td>\n",
       "      <td>01</td>\n",
       "      <td>01M292</td>\n",
       "    </tr>\n",
       "    <tr>\n",
       "      <th>229</th>\n",
       "      <td>1</td>\n",
       "      <td>M</td>\n",
       "      <td>M292</td>\n",
       "      <td>Henry Street School for International Studies</td>\n",
       "      <td>09-12</td>\n",
       "      <td>GEN ED</td>\n",
       "      <td>MATH</td>\n",
       "      <td>Integrated Algebra</td>\n",
       "      <td>-</td>\n",
       "      <td>53.0</td>\n",
       "      <td>3.0</td>\n",
       "      <td>17.7</td>\n",
       "      <td>16.0</td>\n",
       "      <td>21.0</td>\n",
       "      <td>STARS</td>\n",
       "      <td>NaN</td>\n",
       "      <td>01</td>\n",
       "      <td>01M292</td>\n",
       "    </tr>\n",
       "    <tr>\n",
       "      <th>...</th>\n",
       "      <td>...</td>\n",
       "      <td>...</td>\n",
       "      <td>...</td>\n",
       "      <td>...</td>\n",
       "      <td>...</td>\n",
       "      <td>...</td>\n",
       "      <td>...</td>\n",
       "      <td>...</td>\n",
       "      <td>...</td>\n",
       "      <td>...</td>\n",
       "      <td>...</td>\n",
       "      <td>...</td>\n",
       "      <td>...</td>\n",
       "      <td>...</td>\n",
       "      <td>...</td>\n",
       "      <td>...</td>\n",
       "      <td>...</td>\n",
       "      <td>...</td>\n",
       "    </tr>\n",
       "    <tr>\n",
       "      <th>27604</th>\n",
       "      <td>32</td>\n",
       "      <td>K</td>\n",
       "      <td>K564</td>\n",
       "      <td>Bushwick Community High School</td>\n",
       "      <td>09-12</td>\n",
       "      <td>GEN ED</td>\n",
       "      <td>SCIENCE</td>\n",
       "      <td>Physics</td>\n",
       "      <td>-</td>\n",
       "      <td>49.0</td>\n",
       "      <td>2.0</td>\n",
       "      <td>24.5</td>\n",
       "      <td>22.0</td>\n",
       "      <td>27.0</td>\n",
       "      <td>STARS</td>\n",
       "      <td>NaN</td>\n",
       "      <td>32</td>\n",
       "      <td>32K564</td>\n",
       "    </tr>\n",
       "    <tr>\n",
       "      <th>27605</th>\n",
       "      <td>32</td>\n",
       "      <td>K</td>\n",
       "      <td>K564</td>\n",
       "      <td>Bushwick Community High School</td>\n",
       "      <td>09-12</td>\n",
       "      <td>GEN ED</td>\n",
       "      <td>SOCIAL STUDIES</td>\n",
       "      <td>Global History &amp; Geography</td>\n",
       "      <td>-</td>\n",
       "      <td>237.0</td>\n",
       "      <td>10.0</td>\n",
       "      <td>23.7</td>\n",
       "      <td>15.0</td>\n",
       "      <td>31.0</td>\n",
       "      <td>STARS</td>\n",
       "      <td>NaN</td>\n",
       "      <td>32</td>\n",
       "      <td>32K564</td>\n",
       "    </tr>\n",
       "    <tr>\n",
       "      <th>27606</th>\n",
       "      <td>32</td>\n",
       "      <td>K</td>\n",
       "      <td>K564</td>\n",
       "      <td>Bushwick Community High School</td>\n",
       "      <td>09-12</td>\n",
       "      <td>GEN ED</td>\n",
       "      <td>SOCIAL STUDIES</td>\n",
       "      <td>US History &amp; Government</td>\n",
       "      <td>-</td>\n",
       "      <td>256.0</td>\n",
       "      <td>10.0</td>\n",
       "      <td>25.6</td>\n",
       "      <td>15.0</td>\n",
       "      <td>35.0</td>\n",
       "      <td>STARS</td>\n",
       "      <td>NaN</td>\n",
       "      <td>32</td>\n",
       "      <td>32K564</td>\n",
       "    </tr>\n",
       "    <tr>\n",
       "      <th>27607</th>\n",
       "      <td>32</td>\n",
       "      <td>K</td>\n",
       "      <td>K564</td>\n",
       "      <td>Bushwick Community High School</td>\n",
       "      <td>09-12</td>\n",
       "      <td>GEN ED</td>\n",
       "      <td>SOCIAL STUDIES</td>\n",
       "      <td>Economics</td>\n",
       "      <td>-</td>\n",
       "      <td>65.0</td>\n",
       "      <td>2.0</td>\n",
       "      <td>32.5</td>\n",
       "      <td>32.0</td>\n",
       "      <td>33.0</td>\n",
       "      <td>STARS</td>\n",
       "      <td>NaN</td>\n",
       "      <td>32</td>\n",
       "      <td>32K564</td>\n",
       "    </tr>\n",
       "    <tr>\n",
       "      <th>27608</th>\n",
       "      <td>32</td>\n",
       "      <td>K</td>\n",
       "      <td>K564</td>\n",
       "      <td>Bushwick Community High School</td>\n",
       "      <td>09-12</td>\n",
       "      <td>GEN ED</td>\n",
       "      <td>SOCIAL STUDIES</td>\n",
       "      <td>Participation in Government</td>\n",
       "      <td>-</td>\n",
       "      <td>53.0</td>\n",
       "      <td>2.0</td>\n",
       "      <td>26.5</td>\n",
       "      <td>25.0</td>\n",
       "      <td>28.0</td>\n",
       "      <td>STARS</td>\n",
       "      <td>NaN</td>\n",
       "      <td>32</td>\n",
       "      <td>32K564</td>\n",
       "    </tr>\n",
       "  </tbody>\n",
       "</table>\n",
       "<p>6513 rows × 18 columns</p>\n",
       "</div>"
      ],
      "text/plain": [
       "       CSD BOROUGH SCHOOL CODE                                    SCHOOL NAME  \\\n",
       "225      1       M        M292  Henry Street School for International Studies   \n",
       "226      1       M        M292  Henry Street School for International Studies   \n",
       "227      1       M        M292  Henry Street School for International Studies   \n",
       "228      1       M        M292  Henry Street School for International Studies   \n",
       "229      1       M        M292  Henry Street School for International Studies   \n",
       "...    ...     ...         ...                                            ...   \n",
       "27604   32       K        K564                 Bushwick Community High School   \n",
       "27605   32       K        K564                 Bushwick Community High School   \n",
       "27606   32       K        K564                 Bushwick Community High School   \n",
       "27607   32       K        K564                 Bushwick Community High School   \n",
       "27608   32       K        K564                 Bushwick Community High School   \n",
       "\n",
       "      GRADE  PROGRAM TYPE CORE SUBJECT (MS CORE and 9-12 ONLY)  \\\n",
       "225    09-12       GEN ED                              ENGLISH   \n",
       "226    09-12       GEN ED                              ENGLISH   \n",
       "227    09-12       GEN ED                              ENGLISH   \n",
       "228    09-12       GEN ED                              ENGLISH   \n",
       "229    09-12       GEN ED                                 MATH   \n",
       "...      ...          ...                                  ...   \n",
       "27604  09-12       GEN ED                              SCIENCE   \n",
       "27605  09-12       GEN ED                       SOCIAL STUDIES   \n",
       "27606  09-12       GEN ED                       SOCIAL STUDIES   \n",
       "27607  09-12       GEN ED                       SOCIAL STUDIES   \n",
       "27608  09-12       GEN ED                       SOCIAL STUDIES   \n",
       "\n",
       "      CORE COURSE (MS CORE and 9-12 ONLY) SERVICE CATEGORY(K-9* ONLY)  \\\n",
       "225                             English 9                           -   \n",
       "226                            English 10                           -   \n",
       "227                            English 11                           -   \n",
       "228                            English 12                           -   \n",
       "229                    Integrated Algebra                           -   \n",
       "...                                   ...                         ...   \n",
       "27604                             Physics                           -   \n",
       "27605          Global History & Geography                           -   \n",
       "27606             US History & Government                           -   \n",
       "27607                           Economics                           -   \n",
       "27608         Participation in Government                           -   \n",
       "\n",
       "       NUMBER OF STUDENTS / SEATS FILLED  NUMBER OF SECTIONS  \\\n",
       "225                                 63.0                 3.0   \n",
       "226                                 79.0                 3.0   \n",
       "227                                 38.0                 2.0   \n",
       "228                                 69.0                 3.0   \n",
       "229                                 53.0                 3.0   \n",
       "...                                  ...                 ...   \n",
       "27604                               49.0                 2.0   \n",
       "27605                              237.0                10.0   \n",
       "27606                              256.0                10.0   \n",
       "27607                               65.0                 2.0   \n",
       "27608                               53.0                 2.0   \n",
       "\n",
       "       AVERAGE CLASS SIZE  SIZE OF SMALLEST CLASS  SIZE OF LARGEST CLASS  \\\n",
       "225                  21.0                    19.0                   25.0   \n",
       "226                  26.3                    24.0                   31.0   \n",
       "227                  19.0                    16.0                   22.0   \n",
       "228                  23.0                    13.0                   30.0   \n",
       "229                  17.7                    16.0                   21.0   \n",
       "...                   ...                     ...                    ...   \n",
       "27604                24.5                    22.0                   27.0   \n",
       "27605                23.7                    15.0                   31.0   \n",
       "27606                25.6                    15.0                   35.0   \n",
       "27607                32.5                    32.0                   33.0   \n",
       "27608                26.5                    25.0                   28.0   \n",
       "\n",
       "      DATA SOURCE  SCHOOLWIDE PUPIL-TEACHER RATIO padded_csd     DBN  \n",
       "225         STARS                             NaN         01  01M292  \n",
       "226         STARS                             NaN         01  01M292  \n",
       "227         STARS                             NaN         01  01M292  \n",
       "228         STARS                             NaN         01  01M292  \n",
       "229         STARS                             NaN         01  01M292  \n",
       "...           ...                             ...        ...     ...  \n",
       "27604       STARS                             NaN         32  32K564  \n",
       "27605       STARS                             NaN         32  32K564  \n",
       "27606       STARS                             NaN         32  32K564  \n",
       "27607       STARS                             NaN         32  32K564  \n",
       "27608       STARS                             NaN         32  32K564  \n",
       "\n",
       "[6513 rows x 18 columns]"
      ]
     },
     "execution_count": 18,
     "metadata": {},
     "output_type": "execute_result"
    }
   ],
   "source": [
    "class_size=data[\"class_size\"]\n",
    "\n",
    "filterbool1=class_size[\"GRADE \"]==\"09-12\"\n",
    "\n",
    "class_size=class_size.loc[filterbool1]\n",
    "\n",
    "filterbool2=class_size[\"PROGRAM TYPE\"]==\"GEN ED\"\n",
    "\n",
    "class_size=class_size.loc[filterbool2]\n",
    "\n",
    "class_size"
   ]
  },
  {
   "cell_type": "code",
   "execution_count": 19,
   "metadata": {},
   "outputs": [
    {
     "data": {
      "text/plain": [
       "16K498    1\n",
       "07X670    1\n",
       "27Q410    1\n",
       "13K483    1\n",
       "21K238    1\n",
       "         ..\n",
       "19K504    1\n",
       "07X655    1\n",
       "10X438    1\n",
       "22K495    1\n",
       "20K445    1\n",
       "Name: DBN, Length: 583, dtype: int64"
      ]
     },
     "execution_count": 19,
     "metadata": {},
     "output_type": "execute_result"
    }
   ],
   "source": [
    "class_size=class_size.groupby(\"DBN\").mean()\n",
    "\n",
    "class_size.reset_index(inplace=True)\n",
    "\n",
    "data[\"class_size\"]=class_size\n",
    "\n",
    "data[\"class_size\"][\"DBN\"].value_counts()"
   ]
  },
  {
   "cell_type": "code",
   "execution_count": 20,
   "metadata": {},
   "outputs": [],
   "source": [
    "data[\"demographics\"]=data[\"demographics\"].loc[data[\"demographics\"][\"schoolyear\"]==20112012]"
   ]
  },
  {
   "cell_type": "code",
   "execution_count": 21,
   "metadata": {},
   "outputs": [],
   "source": [
    "filterb=(data[\"graduation\"][\"Cohort\"]==\"2006\")& (data[\"graduation\"][\"Demographic\"]==\"Total Cohort\")\n",
    "\n",
    "data[\"graduation\"]=data[\"graduation\"].loc[filterb]"
   ]
  },
  {
   "cell_type": "markdown",
   "metadata": {},
   "source": [
    "### Converting AP test Scores\n",
    "\n",
    "The last thing to do is convert the Advanced Placement (AP) test scores from strings to numeric values. High school students take the AP exams before applying to college. There are several AP exams, each corresponding to a school subject. High school students who earn high scores may receive college credit.\n",
    "\n",
    "AP exams have a 1 to 5 scale; 3 or higher is a passing score. Many high school students take AP exams -- particularly those who attend academically challenging institutions. AP exams are rarer in schools that lack funding or academic rigor."
   ]
  },
  {
   "cell_type": "code",
   "execution_count": 22,
   "metadata": {},
   "outputs": [
    {
     "name": "stdout",
     "output_type": "stream",
     "text": [
      "<class 'pandas.core.frame.DataFrame'>\n",
      "RangeIndex: 258 entries, 0 to 257\n",
      "Data columns (total 5 columns):\n",
      " #   Column                                Non-Null Count  Dtype \n",
      "---  ------                                --------------  ----- \n",
      " 0   DBN                                   258 non-null    object\n",
      " 1   SchoolName                            258 non-null    object\n",
      " 2   AP Test Takers                        258 non-null    object\n",
      " 3   Total Exams Taken                     258 non-null    object\n",
      " 4   Number of Exams with scores 3 4 or 5  258 non-null    object\n",
      "dtypes: object(5)\n",
      "memory usage: 10.2+ KB\n"
     ]
    }
   ],
   "source": [
    "data[\"ap_2010\"].info()"
   ]
  },
  {
   "cell_type": "markdown",
   "metadata": {},
   "source": [
    "There are three columns we'll need to convert:\n",
    "\n",
    "* AP Test Takers (note that there's a trailing space in the column name)\n",
    "* Total Exams Taken\n",
    "* Number of Exams with scores 3 4 or 5"
   ]
  },
  {
   "cell_type": "code",
   "execution_count": 23,
   "metadata": {},
   "outputs": [
    {
     "data": {
      "text/plain": [
       "DBN                                      object\n",
       "SchoolName                               object\n",
       "AP Test Takers                          float64\n",
       "Total Exams Taken                       float64\n",
       "Number of Exams with scores 3 4 or 5    float64\n",
       "dtype: object"
      ]
     },
     "execution_count": 23,
     "metadata": {},
     "output_type": "execute_result"
    }
   ],
   "source": [
    "cols = ['AP Test Takers ', 'Total Exams Taken', 'Number of Exams with scores 3 4 or 5']\n",
    "\n",
    "\n",
    "for name in cols:\n",
    "    data[\"ap_2010\"][name] =pd.to_numeric(data[\"ap_2010\"][name],errors=\"coerce\")\n",
    "    \n",
    "data[\"ap_2010\"].dtypes\n"
   ]
  },
  {
   "cell_type": "markdown",
   "metadata": {},
   "source": [
    "### COMBINING 7 ALL THE DATASETS IN DATA\n",
    "\n",
    "note\n",
    "\n",
    "1) Both the ap_2010 and the graduation datasets have many missing DBN values, so we'll use a left join when we merge the sat_results data set with them.\n",
    "\n",
    "2) class_size, demographics, survey, and hs_directory contain information that's more valuable to our analysis and also have fewer missing DBN values, we'll use the inner join type.\n"
   ]
  },
  {
   "cell_type": "code",
   "execution_count": 24,
   "metadata": {},
   "outputs": [
    {
     "data": {
      "text/plain": [
       "dict_keys(['ap_2010', 'class_size', 'demographics', 'graduation', 'hs_directory', 'sat_results', 'survey'])"
      ]
     },
     "execution_count": 24,
     "metadata": {},
     "output_type": "execute_result"
    }
   ],
   "source": [
    "data.keys()"
   ]
  },
  {
   "cell_type": "code",
   "execution_count": 25,
   "metadata": {},
   "outputs": [
    {
     "data": {
      "text/plain": [
       "(363, 159)"
      ]
     },
     "execution_count": 25,
     "metadata": {},
     "output_type": "execute_result"
    }
   ],
   "source": [
    "combined = data[\"sat_results\"]\n",
    "\n",
    "combined=pd.merge(combined,data[\"ap_2010\"],on=\"DBN\",how=\"left\")\n",
    "\n",
    "combined=combined.merge(data[\"graduation\"],on=\"DBN\",how=\"left\")\n",
    "\n",
    "cols=[\"class_size\",\"demographics\",\"survey\",\"hs_directory\"]\n",
    "\n",
    "for c in cols:\n",
    "    combined=combined.merge(data[c],on=\"DBN\",how=\"inner\")\n",
    "    \n",
    "combined.shape"
   ]
  },
  {
   "cell_type": "markdown",
   "metadata": {},
   "source": [
    "### Filling Nan Values\n",
    "\n",
    "1) notice that we now have many columns with null (NaN) values. This is because we chose to do left joins, where some columns may not have had data. The dataset also had some missing values to begin with. If we hadn't performed a left join, all of the rows with missing data would have been lost in the merge process, which wouldn't have left us with many high schools in our data set.\n",
    "\n",
    "2) filling in the missing values with the overall mean for the column\n",
    "\n",
    "3) Note that if a column consists entirely of null or NaN values, pandas won't be able to fill in the missing values when we      use the df.fillna() method along with the df.mean() method, because there won't be a mean.\n",
    "\n",
    "   We should fill any NaN or null values that remain after the initial replacement with the value 0. We can do this by passing    0 into the df.fillna() method."
   ]
  },
  {
   "cell_type": "code",
   "execution_count": 26,
   "metadata": {},
   "outputs": [],
   "source": [
    "meanofeachcolumn=combined.mean()\n",
    "\n",
    "combined=combined.fillna(meanofeachcolumn)\n",
    "\n",
    "combined=combined.fillna(0)\n"
   ]
  },
  {
   "cell_type": "code",
   "execution_count": 27,
   "metadata": {},
   "outputs": [
    {
     "name": "stdout",
     "output_type": "stream",
     "text": [
      "<class 'pandas.core.frame.DataFrame'>\n",
      "Int64Index: 363 entries, 0 to 362\n",
      "Columns: 159 entries, DBN to lon\n",
      "dtypes: float64(55), int64(12), object(92)\n",
      "memory usage: 453.8+ KB\n"
     ]
    }
   ],
   "source": [
    "combined.info()"
   ]
  },
  {
   "cell_type": "markdown",
   "metadata": {},
   "source": [
    "### Add a school district column for mapping\n",
    "\n",
    "note The school district is just the first two characters of the DBN"
   ]
  },
  {
   "cell_type": "code",
   "execution_count": 28,
   "metadata": {},
   "outputs": [
    {
     "data": {
      "text/plain": [
       "0      01\n",
       "1      01\n",
       "2      01\n",
       "3      01\n",
       "4      01\n",
       "       ..\n",
       "358    32\n",
       "359    32\n",
       "360    32\n",
       "361    32\n",
       "362    32\n",
       "Name: school_dist, Length: 363, dtype: object"
      ]
     },
     "execution_count": 28,
     "metadata": {},
     "output_type": "execute_result"
    }
   ],
   "source": [
    "def districtcode(DBNcodestring):\n",
    "    return DBNcodestring[0:2]\n",
    "\n",
    "combined[\"school_dist\"]=combined[\"DBN\"].apply(lambda DBNcodestring:DBNcodestring[0:2])\n",
    "\n",
    "combined[\"school_dist\"]"
   ]
  },
  {
   "cell_type": "markdown",
   "metadata": {},
   "source": [
    "### Finding correlations\n",
    "\n",
    "The first thing we'll do is find any correlations between columns and sat_score. This helps us determine which columns might be interesting to plot out or investigate further."
   ]
  },
  {
   "cell_type": "code",
   "execution_count": 29,
   "metadata": {},
   "outputs": [
    {
     "data": {
      "text/html": [
       "<div>\n",
       "<style scoped>\n",
       "    .dataframe tbody tr th:only-of-type {\n",
       "        vertical-align: middle;\n",
       "    }\n",
       "\n",
       "    .dataframe tbody tr th {\n",
       "        vertical-align: top;\n",
       "    }\n",
       "\n",
       "    .dataframe thead th {\n",
       "        text-align: right;\n",
       "    }\n",
       "</style>\n",
       "<table border=\"1\" class=\"dataframe\">\n",
       "  <thead>\n",
       "    <tr style=\"text-align: right;\">\n",
       "      <th></th>\n",
       "      <th>SAT Critical Reading Avg. Score</th>\n",
       "      <th>SAT Math Avg. Score</th>\n",
       "      <th>SAT Writing Avg. Score</th>\n",
       "      <th>sat_score</th>\n",
       "      <th>AP Test Takers</th>\n",
       "      <th>Total Exams Taken</th>\n",
       "      <th>Number of Exams with scores 3 4 or 5</th>\n",
       "      <th>Total Cohort</th>\n",
       "      <th>CSD</th>\n",
       "      <th>NUMBER OF STUDENTS / SEATS FILLED</th>\n",
       "      <th>...</th>\n",
       "      <th>grade_span_max</th>\n",
       "      <th>expgrade_span_max</th>\n",
       "      <th>zip</th>\n",
       "      <th>total_students</th>\n",
       "      <th>number_programs</th>\n",
       "      <th>priority08</th>\n",
       "      <th>priority09</th>\n",
       "      <th>priority10</th>\n",
       "      <th>lat</th>\n",
       "      <th>lon</th>\n",
       "    </tr>\n",
       "  </thead>\n",
       "  <tbody>\n",
       "    <tr>\n",
       "      <th>SAT Critical Reading Avg. Score</th>\n",
       "      <td>1.000000</td>\n",
       "      <td>0.929221</td>\n",
       "      <td>0.982826</td>\n",
       "      <td>0.472399</td>\n",
       "      <td>0.490283</td>\n",
       "      <td>0.483479</td>\n",
       "      <td>0.441813</td>\n",
       "      <td>0.289710</td>\n",
       "      <td>0.035699</td>\n",
       "      <td>0.357418</td>\n",
       "      <td>...</td>\n",
       "      <td>NaN</td>\n",
       "      <td>NaN</td>\n",
       "      <td>-0.064120</td>\n",
       "      <td>0.367945</td>\n",
       "      <td>0.111556</td>\n",
       "      <td>NaN</td>\n",
       "      <td>NaN</td>\n",
       "      <td>NaN</td>\n",
       "      <td>-0.119993</td>\n",
       "      <td>-0.126479</td>\n",
       "    </tr>\n",
       "    <tr>\n",
       "      <th>SAT Math Avg. Score</th>\n",
       "      <td>0.929221</td>\n",
       "      <td>1.000000</td>\n",
       "      <td>0.931385</td>\n",
       "      <td>0.465612</td>\n",
       "      <td>0.545646</td>\n",
       "      <td>0.533239</td>\n",
       "      <td>0.469456</td>\n",
       "      <td>0.379012</td>\n",
       "      <td>0.078078</td>\n",
       "      <td>0.444985</td>\n",
       "      <td>...</td>\n",
       "      <td>NaN</td>\n",
       "      <td>NaN</td>\n",
       "      <td>-0.033971</td>\n",
       "      <td>0.460646</td>\n",
       "      <td>0.134403</td>\n",
       "      <td>NaN</td>\n",
       "      <td>NaN</td>\n",
       "      <td>NaN</td>\n",
       "      <td>-0.134572</td>\n",
       "      <td>-0.120055</td>\n",
       "    </tr>\n",
       "    <tr>\n",
       "      <th>SAT Writing Avg. Score</th>\n",
       "      <td>0.982826</td>\n",
       "      <td>0.931385</td>\n",
       "      <td>1.000000</td>\n",
       "      <td>0.472854</td>\n",
       "      <td>0.501648</td>\n",
       "      <td>0.495321</td>\n",
       "      <td>0.451790</td>\n",
       "      <td>0.282701</td>\n",
       "      <td>0.009161</td>\n",
       "      <td>0.353928</td>\n",
       "      <td>...</td>\n",
       "      <td>NaN</td>\n",
       "      <td>NaN</td>\n",
       "      <td>-0.093174</td>\n",
       "      <td>0.366308</td>\n",
       "      <td>0.096834</td>\n",
       "      <td>NaN</td>\n",
       "      <td>NaN</td>\n",
       "      <td>NaN</td>\n",
       "      <td>-0.100551</td>\n",
       "      <td>-0.143850</td>\n",
       "    </tr>\n",
       "    <tr>\n",
       "      <th>sat_score</th>\n",
       "      <td>0.472399</td>\n",
       "      <td>0.465612</td>\n",
       "      <td>0.472854</td>\n",
       "      <td>1.000000</td>\n",
       "      <td>0.254925</td>\n",
       "      <td>0.250432</td>\n",
       "      <td>0.221759</td>\n",
       "      <td>0.161070</td>\n",
       "      <td>0.080944</td>\n",
       "      <td>0.305352</td>\n",
       "      <td>...</td>\n",
       "      <td>NaN</td>\n",
       "      <td>NaN</td>\n",
       "      <td>0.024594</td>\n",
       "      <td>0.291860</td>\n",
       "      <td>0.182280</td>\n",
       "      <td>NaN</td>\n",
       "      <td>NaN</td>\n",
       "      <td>NaN</td>\n",
       "      <td>-0.080811</td>\n",
       "      <td>-0.048274</td>\n",
       "    </tr>\n",
       "    <tr>\n",
       "      <th>AP Test Takers</th>\n",
       "      <td>0.490283</td>\n",
       "      <td>0.545646</td>\n",
       "      <td>0.501648</td>\n",
       "      <td>0.254925</td>\n",
       "      <td>1.000000</td>\n",
       "      <td>0.992192</td>\n",
       "      <td>0.901513</td>\n",
       "      <td>0.602802</td>\n",
       "      <td>0.091956</td>\n",
       "      <td>0.699954</td>\n",
       "      <td>...</td>\n",
       "      <td>NaN</td>\n",
       "      <td>NaN</td>\n",
       "      <td>0.066540</td>\n",
       "      <td>0.677453</td>\n",
       "      <td>0.178590</td>\n",
       "      <td>NaN</td>\n",
       "      <td>NaN</td>\n",
       "      <td>NaN</td>\n",
       "      <td>-0.104464</td>\n",
       "      <td>-0.053121</td>\n",
       "    </tr>\n",
       "    <tr>\n",
       "      <th>...</th>\n",
       "      <td>...</td>\n",
       "      <td>...</td>\n",
       "      <td>...</td>\n",
       "      <td>...</td>\n",
       "      <td>...</td>\n",
       "      <td>...</td>\n",
       "      <td>...</td>\n",
       "      <td>...</td>\n",
       "      <td>...</td>\n",
       "      <td>...</td>\n",
       "      <td>...</td>\n",
       "      <td>...</td>\n",
       "      <td>...</td>\n",
       "      <td>...</td>\n",
       "      <td>...</td>\n",
       "      <td>...</td>\n",
       "      <td>...</td>\n",
       "      <td>...</td>\n",
       "      <td>...</td>\n",
       "      <td>...</td>\n",
       "      <td>...</td>\n",
       "    </tr>\n",
       "    <tr>\n",
       "      <th>priority08</th>\n",
       "      <td>NaN</td>\n",
       "      <td>NaN</td>\n",
       "      <td>NaN</td>\n",
       "      <td>NaN</td>\n",
       "      <td>NaN</td>\n",
       "      <td>NaN</td>\n",
       "      <td>NaN</td>\n",
       "      <td>NaN</td>\n",
       "      <td>NaN</td>\n",
       "      <td>NaN</td>\n",
       "      <td>...</td>\n",
       "      <td>NaN</td>\n",
       "      <td>NaN</td>\n",
       "      <td>NaN</td>\n",
       "      <td>NaN</td>\n",
       "      <td>NaN</td>\n",
       "      <td>NaN</td>\n",
       "      <td>NaN</td>\n",
       "      <td>NaN</td>\n",
       "      <td>NaN</td>\n",
       "      <td>NaN</td>\n",
       "    </tr>\n",
       "    <tr>\n",
       "      <th>priority09</th>\n",
       "      <td>NaN</td>\n",
       "      <td>NaN</td>\n",
       "      <td>NaN</td>\n",
       "      <td>NaN</td>\n",
       "      <td>NaN</td>\n",
       "      <td>NaN</td>\n",
       "      <td>NaN</td>\n",
       "      <td>NaN</td>\n",
       "      <td>NaN</td>\n",
       "      <td>NaN</td>\n",
       "      <td>...</td>\n",
       "      <td>NaN</td>\n",
       "      <td>NaN</td>\n",
       "      <td>NaN</td>\n",
       "      <td>NaN</td>\n",
       "      <td>NaN</td>\n",
       "      <td>NaN</td>\n",
       "      <td>NaN</td>\n",
       "      <td>NaN</td>\n",
       "      <td>NaN</td>\n",
       "      <td>NaN</td>\n",
       "    </tr>\n",
       "    <tr>\n",
       "      <th>priority10</th>\n",
       "      <td>NaN</td>\n",
       "      <td>NaN</td>\n",
       "      <td>NaN</td>\n",
       "      <td>NaN</td>\n",
       "      <td>NaN</td>\n",
       "      <td>NaN</td>\n",
       "      <td>NaN</td>\n",
       "      <td>NaN</td>\n",
       "      <td>NaN</td>\n",
       "      <td>NaN</td>\n",
       "      <td>...</td>\n",
       "      <td>NaN</td>\n",
       "      <td>NaN</td>\n",
       "      <td>NaN</td>\n",
       "      <td>NaN</td>\n",
       "      <td>NaN</td>\n",
       "      <td>NaN</td>\n",
       "      <td>NaN</td>\n",
       "      <td>NaN</td>\n",
       "      <td>NaN</td>\n",
       "      <td>NaN</td>\n",
       "    </tr>\n",
       "    <tr>\n",
       "      <th>lat</th>\n",
       "      <td>-0.119993</td>\n",
       "      <td>-0.134572</td>\n",
       "      <td>-0.100551</td>\n",
       "      <td>-0.080811</td>\n",
       "      <td>-0.104464</td>\n",
       "      <td>-0.092747</td>\n",
       "      <td>-0.049501</td>\n",
       "      <td>-0.173088</td>\n",
       "      <td>-0.530901</td>\n",
       "      <td>-0.169959</td>\n",
       "      <td>...</td>\n",
       "      <td>NaN</td>\n",
       "      <td>NaN</td>\n",
       "      <td>-0.554974</td>\n",
       "      <td>-0.196901</td>\n",
       "      <td>-0.229880</td>\n",
       "      <td>NaN</td>\n",
       "      <td>NaN</td>\n",
       "      <td>NaN</td>\n",
       "      <td>1.000000</td>\n",
       "      <td>0.280425</td>\n",
       "    </tr>\n",
       "    <tr>\n",
       "      <th>lon</th>\n",
       "      <td>-0.126479</td>\n",
       "      <td>-0.120055</td>\n",
       "      <td>-0.143850</td>\n",
       "      <td>-0.048274</td>\n",
       "      <td>-0.053121</td>\n",
       "      <td>-0.060357</td>\n",
       "      <td>-0.036566</td>\n",
       "      <td>-0.003523</td>\n",
       "      <td>0.318252</td>\n",
       "      <td>-0.036394</td>\n",
       "      <td>...</td>\n",
       "      <td>NaN</td>\n",
       "      <td>NaN</td>\n",
       "      <td>0.438612</td>\n",
       "      <td>-0.043321</td>\n",
       "      <td>-0.093700</td>\n",
       "      <td>NaN</td>\n",
       "      <td>NaN</td>\n",
       "      <td>NaN</td>\n",
       "      <td>0.280425</td>\n",
       "      <td>1.000000</td>\n",
       "    </tr>\n",
       "  </tbody>\n",
       "</table>\n",
       "<p>67 rows × 67 columns</p>\n",
       "</div>"
      ],
      "text/plain": [
       "                                 SAT Critical Reading Avg. Score  \\\n",
       "SAT Critical Reading Avg. Score                         1.000000   \n",
       "SAT Math Avg. Score                                     0.929221   \n",
       "SAT Writing Avg. Score                                  0.982826   \n",
       "sat_score                                               0.472399   \n",
       "AP Test Takers                                          0.490283   \n",
       "...                                                          ...   \n",
       "priority08                                                   NaN   \n",
       "priority09                                                   NaN   \n",
       "priority10                                                   NaN   \n",
       "lat                                                    -0.119993   \n",
       "lon                                                    -0.126479   \n",
       "\n",
       "                                 SAT Math Avg. Score  SAT Writing Avg. Score  \\\n",
       "SAT Critical Reading Avg. Score             0.929221                0.982826   \n",
       "SAT Math Avg. Score                         1.000000                0.931385   \n",
       "SAT Writing Avg. Score                      0.931385                1.000000   \n",
       "sat_score                                   0.465612                0.472854   \n",
       "AP Test Takers                              0.545646                0.501648   \n",
       "...                                              ...                     ...   \n",
       "priority08                                       NaN                     NaN   \n",
       "priority09                                       NaN                     NaN   \n",
       "priority10                                       NaN                     NaN   \n",
       "lat                                        -0.134572               -0.100551   \n",
       "lon                                        -0.120055               -0.143850   \n",
       "\n",
       "                                 sat_score  AP Test Takers   \\\n",
       "SAT Critical Reading Avg. Score   0.472399         0.490283   \n",
       "SAT Math Avg. Score               0.465612         0.545646   \n",
       "SAT Writing Avg. Score            0.472854         0.501648   \n",
       "sat_score                         1.000000         0.254925   \n",
       "AP Test Takers                    0.254925         1.000000   \n",
       "...                                    ...              ...   \n",
       "priority08                             NaN              NaN   \n",
       "priority09                             NaN              NaN   \n",
       "priority10                             NaN              NaN   \n",
       "lat                              -0.080811        -0.104464   \n",
       "lon                              -0.048274        -0.053121   \n",
       "\n",
       "                                 Total Exams Taken  \\\n",
       "SAT Critical Reading Avg. Score           0.483479   \n",
       "SAT Math Avg. Score                       0.533239   \n",
       "SAT Writing Avg. Score                    0.495321   \n",
       "sat_score                                 0.250432   \n",
       "AP Test Takers                            0.992192   \n",
       "...                                            ...   \n",
       "priority08                                     NaN   \n",
       "priority09                                     NaN   \n",
       "priority10                                     NaN   \n",
       "lat                                      -0.092747   \n",
       "lon                                      -0.060357   \n",
       "\n",
       "                                 Number of Exams with scores 3 4 or 5  \\\n",
       "SAT Critical Reading Avg. Score                              0.441813   \n",
       "SAT Math Avg. Score                                          0.469456   \n",
       "SAT Writing Avg. Score                                       0.451790   \n",
       "sat_score                                                    0.221759   \n",
       "AP Test Takers                                               0.901513   \n",
       "...                                                               ...   \n",
       "priority08                                                        NaN   \n",
       "priority09                                                        NaN   \n",
       "priority10                                                        NaN   \n",
       "lat                                                         -0.049501   \n",
       "lon                                                         -0.036566   \n",
       "\n",
       "                                 Total Cohort       CSD  \\\n",
       "SAT Critical Reading Avg. Score      0.289710  0.035699   \n",
       "SAT Math Avg. Score                  0.379012  0.078078   \n",
       "SAT Writing Avg. Score               0.282701  0.009161   \n",
       "sat_score                            0.161070  0.080944   \n",
       "AP Test Takers                       0.602802  0.091956   \n",
       "...                                       ...       ...   \n",
       "priority08                                NaN       NaN   \n",
       "priority09                                NaN       NaN   \n",
       "priority10                                NaN       NaN   \n",
       "lat                                 -0.173088 -0.530901   \n",
       "lon                                 -0.003523  0.318252   \n",
       "\n",
       "                                 NUMBER OF STUDENTS / SEATS FILLED  ...  \\\n",
       "SAT Critical Reading Avg. Score                           0.357418  ...   \n",
       "SAT Math Avg. Score                                       0.444985  ...   \n",
       "SAT Writing Avg. Score                                    0.353928  ...   \n",
       "sat_score                                                 0.305352  ...   \n",
       "AP Test Takers                                            0.699954  ...   \n",
       "...                                                            ...  ...   \n",
       "priority08                                                     NaN  ...   \n",
       "priority09                                                     NaN  ...   \n",
       "priority10                                                     NaN  ...   \n",
       "lat                                                      -0.169959  ...   \n",
       "lon                                                      -0.036394  ...   \n",
       "\n",
       "                                 grade_span_max  expgrade_span_max       zip  \\\n",
       "SAT Critical Reading Avg. Score             NaN                NaN -0.064120   \n",
       "SAT Math Avg. Score                         NaN                NaN -0.033971   \n",
       "SAT Writing Avg. Score                      NaN                NaN -0.093174   \n",
       "sat_score                                   NaN                NaN  0.024594   \n",
       "AP Test Takers                              NaN                NaN  0.066540   \n",
       "...                                         ...                ...       ...   \n",
       "priority08                                  NaN                NaN       NaN   \n",
       "priority09                                  NaN                NaN       NaN   \n",
       "priority10                                  NaN                NaN       NaN   \n",
       "lat                                         NaN                NaN -0.554974   \n",
       "lon                                         NaN                NaN  0.438612   \n",
       "\n",
       "                                 total_students  number_programs  priority08  \\\n",
       "SAT Critical Reading Avg. Score        0.367945         0.111556         NaN   \n",
       "SAT Math Avg. Score                    0.460646         0.134403         NaN   \n",
       "SAT Writing Avg. Score                 0.366308         0.096834         NaN   \n",
       "sat_score                              0.291860         0.182280         NaN   \n",
       "AP Test Takers                         0.677453         0.178590         NaN   \n",
       "...                                         ...              ...         ...   \n",
       "priority08                                  NaN              NaN         NaN   \n",
       "priority09                                  NaN              NaN         NaN   \n",
       "priority10                                  NaN              NaN         NaN   \n",
       "lat                                   -0.196901        -0.229880         NaN   \n",
       "lon                                   -0.043321        -0.093700         NaN   \n",
       "\n",
       "                                 priority09  priority10       lat       lon  \n",
       "SAT Critical Reading Avg. Score         NaN         NaN -0.119993 -0.126479  \n",
       "SAT Math Avg. Score                     NaN         NaN -0.134572 -0.120055  \n",
       "SAT Writing Avg. Score                  NaN         NaN -0.100551 -0.143850  \n",
       "sat_score                               NaN         NaN -0.080811 -0.048274  \n",
       "AP Test Takers                          NaN         NaN -0.104464 -0.053121  \n",
       "...                                     ...         ...       ...       ...  \n",
       "priority08                              NaN         NaN       NaN       NaN  \n",
       "priority09                              NaN         NaN       NaN       NaN  \n",
       "priority10                              NaN         NaN       NaN       NaN  \n",
       "lat                                     NaN         NaN  1.000000  0.280425  \n",
       "lon                                     NaN         NaN  0.280425  1.000000  \n",
       "\n",
       "[67 rows x 67 columns]"
      ]
     },
     "execution_count": 29,
     "metadata": {},
     "output_type": "execute_result"
    }
   ],
   "source": [
    "correlations=combined.corr()\n",
    "correlations"
   ]
  },
  {
   "cell_type": "code",
   "execution_count": 30,
   "metadata": {},
   "outputs": [
    {
     "data": {
      "text/plain": [
       "SAT Critical Reading Avg. Score    0.472399\n",
       "SAT Math Avg. Score                0.465612\n",
       "SAT Writing Avg. Score             0.472854\n",
       "sat_score                          1.000000\n",
       "AP Test Takers                     0.254925\n",
       "                                     ...   \n",
       "priority08                              NaN\n",
       "priority09                              NaN\n",
       "priority10                              NaN\n",
       "lat                               -0.080811\n",
       "lon                               -0.048274\n",
       "Name: sat_score, Length: 67, dtype: float64"
      ]
     },
     "execution_count": 30,
     "metadata": {},
     "output_type": "execute_result"
    }
   ],
   "source": [
    "correlations[\"sat_score\"]"
   ]
  },
  {
   "cell_type": "code",
   "execution_count": 31,
   "metadata": {},
   "outputs": [],
   "source": [
    "correlations=correlations[\"sat_score\"]"
   ]
  },
  {
   "cell_type": "markdown",
   "metadata": {},
   "source": [
    "#### observations\n",
    "\n",
    "* total_enrollment has a strong positive correlation with sat_score. This is surprising because we'd expect smaller schools where students receive more attention to have higher scores. However, it looks like the opposite is true -- larger schools tend to do better on the SAT.\n",
    "\n",
    "* Other columns that are proxies for enrollment correlate similarly. These include total_students, N_s, N_p, N_t, AP Test Takers, Total Exams Taken, and NUMBER OF SECTIONS.\n",
    "\n",
    "\n",
    "* Both the percentage of females (female_per) and number of females (female_num) at a school correlate positively with SAT score, whereas the percentage of males (male_per) and the number of males (male_num) correlate negatively. This could indicate that women do better on the SAT than men.\n",
    "\n",
    "\n",
    "* Teacher and student ratings of school safety (saf_t_11, and saf_s_11) correlate with sat_score.\n",
    "\n",
    "* Student ratings of school academic standards (aca_s_11) correlate with sat_score, but this does not hold for ratings from teachers and parents (aca_p_11 and aca_t_11).\n",
    "\n",
    "\n",
    "* There is significant racial inequality in SAT scores (white_per, asian_per, black_per, hispanic_per).\n",
    "\n",
    "* The percentage of English language learners at the school (ell_percent, frl_percent) has a strong negative correlation with SAT scores."
   ]
  },
  {
   "cell_type": "code",
   "execution_count": 32,
   "metadata": {},
   "outputs": [
    {
     "data": {
      "image/png": "[encoded data removed]",
      "text/plain": [
       "<Figure size 432x288 with 1 Axes>"
      ]
     },
     "metadata": {
      "needs_background": "light"
     },
     "output_type": "display_data"
    }
   ],
   "source": [
    "import matplotlib.pyplot as plt\n",
    "\n",
    "plt.scatter(combined[\"total_enrollment\"],combined[\"sat_score\"])\n",
    "plt.xlabel(\"total_enrollment\")\n",
    "plt.ylabel(\"sat_score\")\n",
    "plt.title(\"total enrollment against sat score\")\n",
    "plt.ylim([1000,2000])\n",
    "plt.show()\n",
    "\n",
    "#import matplotlib.pyplot as plt\n",
    "#combined.plot.scatter(x='total_enrollment', y='sat_score')\n",
    "#plt.show()"
   ]
  },
  {
   "cell_type": "markdown",
   "metadata": {},
   "source": [
    "##### observation\n",
    "\n",
    "judging from the plot we just created, it doesn't appear there's a strong correlation between sat_score and total_enrollment. If there was a strong correlation, we'd expect all of the points to line up. Instead, there's a large cluster of schools and then a few others going off in three different directions.\n",
    "\n",
    "However, there's an interesting cluster of points at the bottom left where total_enrollment and sat_score are both low. This cluster may be what's making the r value so high. It's worth extracting the names of the schools in this cluster so we can research them further."
   ]
  },
  {
   "cell_type": "code",
   "execution_count": 33,
   "metadata": {},
   "outputs": [
    {
     "name": "stdout",
     "output_type": "stream",
     "text": [
      "91       INTERNATIONAL COMMUNITY HIGH SCHOOL\n",
      "126          BRONX INTERNATIONAL HIGH SCHOOL\n",
      "139    KINGSBRIDGE INTERNATIONAL HIGH SCHOOL\n",
      "141    INTERNATIONAL SCHOOL FOR LIBERAL ARTS\n",
      "179            HIGH SCHOOL OF WORLD CULTURES\n",
      "188       BROOKLYN INTERNATIONAL HIGH SCHOOL\n",
      "197                      FOUNDATIONS ACADEMY\n",
      "225    INTERNATIONAL HIGH SCHOOL AT PROSPECT\n",
      "237               IT TAKES A VILLAGE ACADEMY\n",
      "253                MULTICULTURAL HIGH SCHOOL\n",
      "286    PAN AMERICAN INTERNATIONAL HIGH SCHOO\n",
      "Name: School Name, dtype: object\n"
     ]
    }
   ],
   "source": [
    "low_enrollment=combined.loc[(combined[\"total_enrollment\"]<1000)& (combined[\"sat_score\"]<1000)]\n",
    "\n",
    "print(low_enrollment[\"School Name\"][low_enrollment[\"School Name\"]!=0])"
   ]
  },
  {
   "cell_type": "markdown",
   "metadata": {},
   "source": [
    "Our research  revealed that most of the high schools with low total enrollment and low SAT scores have high percentages of English language learners. This indicates that it's actually ell_percent that correlates strongly with sat_score, rather than total_enrollment"
   ]
  },
  {
   "cell_type": "code",
   "execution_count": 34,
   "metadata": {},
   "outputs": [
    {
     "data": {
      "image/png": "[encoded data removed]",
      "text/plain": [
       "<Figure size 432x288 with 1 Axes>"
      ]
     },
     "metadata": {
      "needs_background": "light"
     },
     "output_type": "display_data"
    }
   ],
   "source": [
    "\n",
    "combined.plot(x=\"ell_percent\",y=\"sat_score\",kind=\"scatter\")\n",
    "\n",
    "plt.xlabel(\"ell_percent\")\n",
    "plt.ylabel(\"sat_score\")\n",
    "plt.title(\"ell_percent against sat score\")\n",
    "plt.ylim(1000,2000)\n",
    "plt.show()"
   ]
  },
  {
   "cell_type": "markdown",
   "metadata": {},
   "source": [
    "### Calculating District Level Statictics"
   ]
  },
  {
   "cell_type": "code",
   "execution_count": 35,
   "metadata": {},
   "outputs": [
    {
     "name": "stdout",
     "output_type": "stream",
     "text": [
      "  school_dist  SAT Critical Reading Avg. Score  SAT Math Avg. Score  \\\n",
      "0          01                       441.833333           473.333333   \n",
      "\n",
      "   SAT Writing Avg. Score  sat_score  AP Test Takers   Total Exams Taken  \\\n",
      "0              439.333333     1354.5        116.68109         173.019231   \n",
      "\n",
      "   Number of Exams with scores 3 4 or 5  Total Cohort  CSD  ...  \\\n",
      "0                                 135.8          93.5  1.0  ...   \n",
      "\n",
      "   grade_span_max  expgrade_span_max           zip  total_students  \\\n",
      "0            12.0               12.0  10003.166667           659.5   \n",
      "\n",
      "   number_programs  priority08  priority09  priority10        lat        lon  \n",
      "0         1.333333         0.0         0.0         0.0  40.719022 -73.982377  \n",
      "\n",
      "[1 rows x 68 columns]\n"
     ]
    }
   ],
   "source": [
    "districts=combined.groupby(\"school_dist\").agg(np.mean)\n",
    "\n",
    "districts.reset_index(\"school_dist\",inplace=True)\n",
    "\n",
    "print(districts.head(1))"
   ]
  },
  {
   "cell_type": "code",
   "execution_count": 36,
   "metadata": {},
   "outputs": [
    {
     "data": {
      "image/png": "[encoded data removed]",
      "text/plain": [
       "<Figure size 720x720 with 1 Axes>"
      ]
     },
     "metadata": {
      "needs_background": "light"
     },
     "output_type": "display_data"
    }
   ],
   "source": [
    "plt.figure(figsize=(10,10))\n",
    "plt.bar(districts[\"school_dist\"],districts[\"sat_score\"])\n",
    "plt.ylabel(\"Average sat score per district\")\n",
    "plt.xlabel(\"School District Code\")\n",
    "plt.xticks(rotation=90)\n",
    "plt.title(\"Average Score Per District\")\n",
    "\n",
    "plt.show()"
   ]
  },
  {
   "cell_type": "markdown",
   "metadata": {},
   "source": [
    "### Stacked bar chat"
   ]
  },
  {
   "cell_type": "code",
   "execution_count": 37,
   "metadata": {},
   "outputs": [
    {
     "data": {
      "image/png": "[encoded data removed]",
      "text/plain": [
       "<Figure size 720x720 with 1 Axes>"
      ]
     },
     "metadata": {
      "needs_background": "light"
     },
     "output_type": "display_data"
    }
   ],
   "source": [
    "plt.figure(figsize=(10,10))\n",
    "plt.bar(districts[\"school_dist\"],districts[\"SAT Math Avg. Score\"],0.8,label=\"Math\")\n",
    "plt.bar(districts[\"school_dist\"],districts[\"SAT Critical Reading Avg. Score\"],0.8,bottom=districts[\"SAT Math Avg. Score\"],label=\"Critical Reading\")\n",
    "plt.bar(districts[\"school_dist\"],districts[\"SAT Writing Avg. Score\"],0.8,bottom=districts[\"SAT Math Avg. Score\"]+districts[\"SAT Critical Reading Avg. Score\"],label=\"Writing\")\n",
    "plt.xlabel(\"School District Code\")\n",
    "plt.ylabel(\"Average sat score per district\")\n",
    "plt.xticks(rotation=90)\n",
    "plt.legend(loc =1)\n",
    "plt.show()\n"
   ]
  },
  {
   "cell_type": "markdown",
   "metadata": {},
   "source": [
    "### Survey and SAT score correlation\n",
    "\n",
    "There are several fields in combined that originally came from a survey of parents, teachers, and students. Make a bar plot of the correlations between these fields and sat_score.\n",
    "\n",
    "link to survey dictionary to aid in understanding the survey column names:https://data.cityofnewyork.us/Education/2011-NYC-School-Survey/mnz3-dyi8"
   ]
  },
  {
   "cell_type": "code",
   "execution_count": 38,
   "metadata": {},
   "outputs": [
    {
     "data": {
      "text/plain": [
       "Index(['DBN', 'rr_s', 'rr_t', 'rr_p', 'N_s', 'N_t', 'N_p', 'saf_p_11',\n",
       "       'com_p_11', 'eng_p_11', 'aca_p_11', 'saf_t_11', 'com_t_11', 'eng_t_11',\n",
       "       'aca_t_11', 'saf_s_11', 'com_s_11', 'eng_s_11', 'aca_s_11',\n",
       "       'saf_tot_11', 'com_tot_11', 'eng_tot_11', 'aca_tot_11'],\n",
       "      dtype='object')"
      ]
     },
     "execution_count": 38,
     "metadata": {},
     "output_type": "execute_result"
    }
   ],
   "source": [
    "data[\"survey\"].keys()"
   ]
  },
  {
   "cell_type": "code",
   "execution_count": 39,
   "metadata": {},
   "outputs": [
    {
     "data": {
      "text/plain": [
       "Index(['DBN', 'SCHOOL NAME', 'Num of SAT Test Takers',\n",
       "       'SAT Critical Reading Avg. Score', 'SAT Math Avg. Score',\n",
       "       'SAT Writing Avg. Score', 'sat_score', 'SchoolName', 'AP Test Takers ',\n",
       "       'Total Exams Taken',\n",
       "       ...\n",
       "       'priority05', 'priority06', 'priority07', 'priority08', 'priority09',\n",
       "       'priority10', 'Location 1', 'lat', 'lon', 'school_dist'],\n",
       "      dtype='object', length=160)"
      ]
     },
     "execution_count": 39,
     "metadata": {},
     "output_type": "execute_result"
    }
   ],
   "source": [
    "combined.columns"
   ]
  },
  {
   "cell_type": "code",
   "execution_count": 40,
   "metadata": {},
   "outputs": [
    {
     "data": {
      "text/plain": [
       "['DBN',\n",
       " 'rr_s',\n",
       " 'rr_t',\n",
       " 'rr_p',\n",
       " 'N_s',\n",
       " 'N_t',\n",
       " 'N_p',\n",
       " 'saf_p_11',\n",
       " 'com_p_11',\n",
       " 'eng_p_11',\n",
       " 'aca_p_11',\n",
       " 'saf_t_11',\n",
       " 'com_t_11',\n",
       " 'eng_t_11',\n",
       " 'aca_t_11',\n",
       " 'saf_s_11',\n",
       " 'com_s_11',\n",
       " 'eng_s_11',\n",
       " 'aca_s_11',\n",
       " 'saf_tot_11',\n",
       " 'com_tot_11',\n",
       " 'eng_tot_11',\n",
       " 'aca_tot_11']"
      ]
     },
     "execution_count": 40,
     "metadata": {},
     "output_type": "execute_result"
    }
   ],
   "source": [
    "survey_columns"
   ]
  },
  {
   "cell_type": "code",
   "execution_count": 41,
   "metadata": {},
   "outputs": [
    {
     "data": {
      "text/plain": [
       "SAT Critical Reading Avg. Score    0.472399\n",
       "SAT Math Avg. Score                0.465612\n",
       "SAT Writing Avg. Score             0.472854\n",
       "sat_score                          1.000000\n",
       "AP Test Takers                     0.254925\n",
       "                                     ...   \n",
       "priority08                              NaN\n",
       "priority09                              NaN\n",
       "priority10                              NaN\n",
       "lat                               -0.080811\n",
       "lon                               -0.048274\n",
       "Name: sat_score, Length: 67, dtype: float64"
      ]
     },
     "execution_count": 41,
     "metadata": {},
     "output_type": "execute_result"
    }
   ],
   "source": [
    "#series for correlations between sat_score and all the other columns\n",
    "series=combined.corr()[\"sat_score\"]\n",
    "series"
   ]
  },
  {
   "cell_type": "code",
   "execution_count": 42,
   "metadata": {},
   "outputs": [
    {
     "data": {
      "image/png": "[encoded data removed]",
      "text/plain": [
       "<Figure size 1080x720 with 1 Axes>"
      ]
     },
     "metadata": {
      "needs_background": "light"
     },
     "output_type": "display_data"
    }
   ],
   "source": [
    "plt.figure(figsize=(15,10))\n",
    "series.plot(kind=\"bar\")\n",
    "plt.show()"
   ]
  },
  {
   "cell_type": "code",
   "execution_count": 43,
   "metadata": {},
   "outputs": [],
   "source": [
    "# for all sujrvey_columns\n",
    "# Remove DBN since it's a unique identifier, not a useful numerical value for correlation.\n",
    "survey_columns.remove(\"DBN\")"
   ]
  },
  {
   "cell_type": "code",
   "execution_count": 44,
   "metadata": {},
   "outputs": [
    {
     "data": {
      "text/plain": [
       "Text(0, 0.5, 'correlation with SAT scores')"
      ]
     },
     "execution_count": 44,
     "metadata": {},
     "output_type": "execute_result"
    },
    {
     "data": {
      "image/png": "[encoded data removed]",
      "text/plain": [
       "<Figure size 576x360 with 1 Axes>"
      ]
     },
     "metadata": {
      "needs_background": "light"
     },
     "output_type": "display_data"
    }
   ],
   "source": [
    "plt.figure(figsize=(8,5))\n",
    "series[survey_columns].plot(kind=\"bar\")\n",
    "plt.xlabel(\"survey columns\")\n",
    "plt.ylabel(\"correlation with SAT scores\")"
   ]
  },
  {
   "attachments": {
    "Screenshot%20%282175%29.png": {
     "image/png": "[encoded data removed]"
    },
    "Screenshot%20%282177%29.png": {
     "image/png": "[encoded data removed]"
    }
   },
   "cell_type": "markdown",
   "metadata": {},
   "source": [
    "![Screenshot%20%282177%29.png](attachment:Screenshot%20%282177%29.png)\n",
    "![Screenshot%20%282175%29.png](attachment:Screenshot%20%282175%29.png)"
   ]
  },
  {
   "cell_type": "code",
   "execution_count": 45,
   "metadata": {},
   "outputs": [],
   "source": [
    "a=series.index[-32:-10]"
   ]
  },
  {
   "cell_type": "code",
   "execution_count": 46,
   "metadata": {
    "scrolled": true
   },
   "outputs": [
    {
     "data": {
      "image/png": "[encoded data removed]",
      "text/plain": [
       "<Figure size 720x360 with 1 Axes>"
      ]
     },
     "metadata": {
      "needs_background": "light"
     },
     "output_type": "display_data"
    }
   ],
   "source": [
    "plt.figure(figsize=(10,5))\n",
    "plt.bar(a,series[survey_columns])\n",
    "\n",
    "plt.xlabel(\"survey columns\")\n",
    "plt.ylabel(\"correlation with SAT scores\")\n",
    "plt.xticks(rotation=90)\n",
    "plt.show()"
   ]
  },
  {
   "cell_type": "markdown",
   "metadata": {},
   "source": [
    "#### observations\n",
    "\n",
    "*Genrally a relatively weaker positive and negative correlation of not more than 0.35 and -0.15 respectively\n",
    "\n",
    "*There are high correlations between N_s, N_t, N_p and sat_score. Since these columns are correlated with total_enrollment, it makes sense that they would be high.\n",
    "\n",
    "* It is more interesting that rr_s, the student response rate, or the percentage of students that completed the survey, correlates with sat_score. This might make sense because students who are more likely to fill out surveys may be more likely to also be doing well academically.\n",
    "\n",
    "* How students and teachers percieved safety (saf_t_11 and saf_s_11) correlate with sat_score. This make sense, as it's hard to teach or learn in an unsafe environment.\n",
    "\n",
    "* The last interesting correlation is the aca_s_11, which indicates how the student perceives academic standards, correlates with sat_score, but this is not true for aca_t_11, how teachers perceive academic standards, or aca_p_11, how parents perceive academic standards."
   ]
  },
  {
   "cell_type": "markdown",
   "metadata": {},
   "source": [
    "### Exploring Safety\n",
    "\n",
    "(saf_t_11(0.18) and saf_s_11 (0.13)) correlate with sat_score \n",
    "\n",
    "it still relatively a weak correlation"
   ]
  },
  {
   "cell_type": "code",
   "execution_count": 47,
   "metadata": {},
   "outputs": [
    {
     "data": {
      "image/png": "[encoded data removed]",
      "text/plain": [
       "<Figure size 432x288 with 1 Axes>"
      ]
     },
     "metadata": {
      "needs_background": "light"
     },
     "output_type": "display_data"
    },
    {
     "data": {
      "image/png": "[encoded data removed]",
      "text/plain": [
       "<Figure size 432x288 with 1 Axes>"
      ]
     },
     "metadata": {
      "needs_background": "light"
     },
     "output_type": "display_data"
    }
   ],
   "source": [
    "combined.plot.scatter(\"saf_t_11\",\"sat_score\")\n",
    "combined.plot.scatter(\"saf_s_11\",\"sat_score\")\n",
    "plt.show()"
   ]
  },
  {
   "cell_type": "markdown",
   "metadata": {},
   "source": [
    "seems schools with sat_score of 0 are affecting our correlation and charts. Intresting to see that some of the schools witha sat_score of zero still has high recording for safety.\n",
    "\n",
    "is possible these sat scores arent zero but were just not recorded."
   ]
  },
  {
   "cell_type": "code",
   "execution_count": 48,
   "metadata": {},
   "outputs": [
    {
     "data": {
      "image/png": "[encoded data removed]",
      "text/plain": [
       "<Figure size 432x288 with 1 Axes>"
      ]
     },
     "metadata": {
      "needs_background": "light"
     },
     "output_type": "display_data"
    },
    {
     "data": {
      "image/png": "[encoded data removed]",
      "text/plain": [
       "<Figure size 432x288 with 1 Axes>"
      ]
     },
     "metadata": {
      "needs_background": "light"
     },
     "output_type": "display_data"
    }
   ],
   "source": [
    "#focusing on sat score above 1000\n",
    "combined.plot.scatter(\"saf_t_11\",\"sat_score\")\n",
    "plt.ylim(1000,2000)\n",
    "combined.plot.scatter(\"saf_s_11\",\"sat_score\")\n",
    "plt.ylim(1000,2000)\n",
    "plt.show()"
   ]
  },
  {
   "cell_type": "markdown",
   "metadata": {},
   "source": [
    "#### observations\n",
    "\n",
    "There appears to be a correlation between SAT scores and safety, although it isn't thatstrong. It looks like there are a few schools with extremely high SAT scores and high safety scores. There are a few schools with low safety scores and low SAT scores. No school with a safety score lower than 6.5 has an average SAT score higher than 1500 or so."
   ]
  },
  {
   "cell_type": "code",
   "execution_count": 49,
   "metadata": {},
   "outputs": [
    {
     "data": {
      "text/plain": [
       "0.0    28\n",
       "Name: sat_score, dtype: int64"
      ]
     },
     "execution_count": 49,
     "metadata": {},
     "output_type": "execute_result"
    }
   ],
   "source": [
    "# focusing all schools with sat scores greater than zero\n",
    "satscore_zero=combined.loc[combined[\"sat_score\"]==0]\n",
    "satscore_zero[\"sat_score\"].value_counts(ascending=True)\n"
   ]
  },
  {
   "cell_type": "code",
   "execution_count": 50,
   "metadata": {},
   "outputs": [
    {
     "data": {
      "text/plain": [
       "1473.0    1\n",
       "1969.0    1\n",
       "1134.0    1\n",
       "1290.0    1\n",
       "1155.0    1\n",
       "         ..\n",
       "1127.0    3\n",
       "1077.0    3\n",
       "1122.0    3\n",
       "1169.0    4\n",
       "1111.0    4\n",
       "Name: sat_score, Length: 243, dtype: int64"
      ]
     },
     "execution_count": 50,
     "metadata": {},
     "output_type": "execute_result"
    }
   ],
   "source": [
    "satscore_nonzero=combined.loc[combined[\"sat_score\"]!=0]\n",
    "satscore_nonzero[\"sat_score\"].value_counts(ascending=True)"
   ]
  },
  {
   "cell_type": "code",
   "execution_count": 51,
   "metadata": {},
   "outputs": [
    {
     "data": {
      "text/plain": [
       "SAT Critical Reading Avg. Score    0.986820\n",
       "SAT Math Avg. Score                0.972643\n",
       "SAT Writing Avg. Score             0.987771\n",
       "sat_score                          1.000000\n",
       "AP Test Takers                     0.523318\n",
       "                                     ...   \n",
       "priority08                              NaN\n",
       "priority09                              NaN\n",
       "priority10                              NaN\n",
       "lat                               -0.124166\n",
       "lon                               -0.137163\n",
       "Name: sat_score, Length: 67, dtype: float64"
      ]
     },
     "execution_count": 51,
     "metadata": {},
     "output_type": "execute_result"
    }
   ],
   "source": [
    "satscore_nonzero.corr()[\"sat_score\"]"
   ]
  },
  {
   "cell_type": "code",
   "execution_count": 52,
   "metadata": {},
   "outputs": [
    {
     "data": {
      "text/plain": [
       "<matplotlib.axes._subplots.AxesSubplot at 0x228a09231f0>"
      ]
     },
     "execution_count": 52,
     "metadata": {},
     "output_type": "execute_result"
    },
    {
     "data": {
      "image/png": "[encoded data removed]",
      "text/plain": [
       "<Figure size 432x288 with 1 Axes>"
      ]
     },
     "metadata": {
      "needs_background": "light"
     },
     "output_type": "display_data"
    }
   ],
   "source": [
    "satscore_nonzero.corr()[\"sat_score\"][survey_columns].plot(kind=\"bar\")"
   ]
  },
  {
   "cell_type": "code",
   "execution_count": 53,
   "metadata": {},
   "outputs": [
    {
     "data": {
      "image/png": "[encoded data removed]",
      "text/plain": [
       "<Figure size 432x288 with 1 Axes>"
      ]
     },
     "metadata": {
      "needs_background": "light"
     },
     "output_type": "display_data"
    },
    {
     "data": {
      "image/png": "[encoded data removed]",
      "text/plain": [
       "<Figure size 432x288 with 1 Axes>"
      ]
     },
     "metadata": {
      "needs_background": "light"
     },
     "output_type": "display_data"
    }
   ],
   "source": [
    "satscore_nonzero.plot.scatter(\"saf_t_11\",\"sat_score\")\n",
    "satscore_nonzero.plot.scatter(\"saf_s_11\",\"sat_score\")\n",
    "plt.show()"
   ]
  },
  {
   "cell_type": "markdown",
   "metadata": {},
   "source": [
    "#### observations\n",
    "\n",
    "safety correlations for schools with SAT scores greater than zero are more correlated to sat_score (however is still relatively a weak correlation of not more than 0.45). Most of the measures are now more positvely correlated."
   ]
  },
  {
   "cell_type": "markdown",
   "metadata": {},
   "source": [
    "##### Borough safety\n",
    "\n",
    "information on boroughs in new york:https://www.nycgo.com/boroughs-neighborhoods/"
   ]
  },
  {
   "cell_type": "code",
   "execution_count": 54,
   "metadata": {},
   "outputs": [
    {
     "data": {
      "text/plain": [
       "Brooklyn         106\n",
       "Bronx             93\n",
       "Manhattan         90\n",
       "Queens            64\n",
       "Staten Island     10\n",
       "Name: boro, dtype: int64"
      ]
     },
     "execution_count": 54,
     "metadata": {},
     "output_type": "execute_result"
    }
   ],
   "source": [
    "combined[\"boro\"].value_counts()"
   ]
  },
  {
   "cell_type": "code",
   "execution_count": 55,
   "metadata": {},
   "outputs": [
    {
     "data": {
      "text/plain": [
       "['rr_s',\n",
       " 'rr_t',\n",
       " 'rr_p',\n",
       " 'N_s',\n",
       " 'N_t',\n",
       " 'N_p',\n",
       " 'saf_p_11',\n",
       " 'com_p_11',\n",
       " 'eng_p_11',\n",
       " 'aca_p_11',\n",
       " 'saf_t_11',\n",
       " 'com_t_11',\n",
       " 'eng_t_11',\n",
       " 'aca_t_11',\n",
       " 'saf_s_11',\n",
       " 'com_s_11',\n",
       " 'eng_s_11',\n",
       " 'aca_s_11',\n",
       " 'saf_tot_11',\n",
       " 'com_tot_11',\n",
       " 'eng_tot_11',\n",
       " 'aca_tot_11']"
      ]
     },
     "execution_count": 55,
     "metadata": {},
     "output_type": "execute_result"
    }
   ],
   "source": [
    "#columns relating to saftey\n",
    "survey_columns"
   ]
  },
  {
   "cell_type": "code",
   "execution_count": 56,
   "metadata": {},
   "outputs": [
    {
     "data": {
      "text/html": [
       "<div>\n",
       "<style scoped>\n",
       "    .dataframe tbody tr th:only-of-type {\n",
       "        vertical-align: middle;\n",
       "    }\n",
       "\n",
       "    .dataframe tbody tr th {\n",
       "        vertical-align: top;\n",
       "    }\n",
       "\n",
       "    .dataframe thead th {\n",
       "        text-align: right;\n",
       "    }\n",
       "</style>\n",
       "<table border=\"1\" class=\"dataframe\">\n",
       "  <thead>\n",
       "    <tr style=\"text-align: right;\">\n",
       "      <th></th>\n",
       "      <th>rr_s</th>\n",
       "      <th>rr_t</th>\n",
       "      <th>rr_p</th>\n",
       "      <th>N_s</th>\n",
       "      <th>N_t</th>\n",
       "      <th>N_p</th>\n",
       "      <th>saf_p_11</th>\n",
       "      <th>com_p_11</th>\n",
       "      <th>eng_p_11</th>\n",
       "      <th>aca_p_11</th>\n",
       "      <th>...</th>\n",
       "      <th>eng_t_11</th>\n",
       "      <th>aca_t_11</th>\n",
       "      <th>saf_s_11</th>\n",
       "      <th>com_s_11</th>\n",
       "      <th>eng_s_11</th>\n",
       "      <th>aca_s_11</th>\n",
       "      <th>saf_tot_11</th>\n",
       "      <th>com_tot_11</th>\n",
       "      <th>eng_tot_11</th>\n",
       "      <th>aca_tot_11</th>\n",
       "    </tr>\n",
       "    <tr>\n",
       "      <th>boro</th>\n",
       "      <th></th>\n",
       "      <th></th>\n",
       "      <th></th>\n",
       "      <th></th>\n",
       "      <th></th>\n",
       "      <th></th>\n",
       "      <th></th>\n",
       "      <th></th>\n",
       "      <th></th>\n",
       "      <th></th>\n",
       "      <th></th>\n",
       "      <th></th>\n",
       "      <th></th>\n",
       "      <th></th>\n",
       "      <th></th>\n",
       "      <th></th>\n",
       "      <th></th>\n",
       "      <th></th>\n",
       "      <th></th>\n",
       "      <th></th>\n",
       "      <th></th>\n",
       "    </tr>\n",
       "  </thead>\n",
       "  <tbody>\n",
       "    <tr>\n",
       "      <th>Bronx</th>\n",
       "      <td>80.440860</td>\n",
       "      <td>80.784946</td>\n",
       "      <td>42.440860</td>\n",
       "      <td>435.959229</td>\n",
       "      <td>30.559140</td>\n",
       "      <td>202.333333</td>\n",
       "      <td>8.346237</td>\n",
       "      <td>7.805376</td>\n",
       "      <td>7.639785</td>\n",
       "      <td>7.947312</td>\n",
       "      <td>...</td>\n",
       "      <td>6.884946</td>\n",
       "      <td>7.427957</td>\n",
       "      <td>6.606577</td>\n",
       "      <td>6.093492</td>\n",
       "      <td>6.630326</td>\n",
       "      <td>7.418079</td>\n",
       "      <td>7.322581</td>\n",
       "      <td>6.765591</td>\n",
       "      <td>7.046237</td>\n",
       "      <td>7.598925</td>\n",
       "    </tr>\n",
       "    <tr>\n",
       "      <th>Brooklyn</th>\n",
       "      <td>77.952830</td>\n",
       "      <td>82.122642</td>\n",
       "      <td>34.783019</td>\n",
       "      <td>575.726415</td>\n",
       "      <td>39.179245</td>\n",
       "      <td>249.754717</td>\n",
       "      <td>8.036792</td>\n",
       "      <td>7.600000</td>\n",
       "      <td>7.516981</td>\n",
       "      <td>7.789623</td>\n",
       "      <td>...</td>\n",
       "      <td>6.979245</td>\n",
       "      <td>7.497170</td>\n",
       "      <td>6.370755</td>\n",
       "      <td>6.028302</td>\n",
       "      <td>6.549057</td>\n",
       "      <td>7.313208</td>\n",
       "      <td>7.129245</td>\n",
       "      <td>6.715094</td>\n",
       "      <td>7.016038</td>\n",
       "      <td>7.535849</td>\n",
       "    </tr>\n",
       "    <tr>\n",
       "      <th>Manhattan</th>\n",
       "      <td>83.322222</td>\n",
       "      <td>85.211111</td>\n",
       "      <td>39.900000</td>\n",
       "      <td>495.615741</td>\n",
       "      <td>31.566667</td>\n",
       "      <td>203.255556</td>\n",
       "      <td>8.288889</td>\n",
       "      <td>7.577778</td>\n",
       "      <td>7.465556</td>\n",
       "      <td>7.786667</td>\n",
       "      <td>...</td>\n",
       "      <td>6.963333</td>\n",
       "      <td>7.472222</td>\n",
       "      <td>6.831370</td>\n",
       "      <td>6.179883</td>\n",
       "      <td>6.644895</td>\n",
       "      <td>7.408475</td>\n",
       "      <td>7.473333</td>\n",
       "      <td>6.728889</td>\n",
       "      <td>7.021111</td>\n",
       "      <td>7.556667</td>\n",
       "    </tr>\n",
       "    <tr>\n",
       "      <th>Queens</th>\n",
       "      <td>82.000000</td>\n",
       "      <td>84.796875</td>\n",
       "      <td>38.718750</td>\n",
       "      <td>878.234375</td>\n",
       "      <td>57.046875</td>\n",
       "      <td>318.843750</td>\n",
       "      <td>8.098437</td>\n",
       "      <td>7.476563</td>\n",
       "      <td>7.425000</td>\n",
       "      <td>7.685937</td>\n",
       "      <td>...</td>\n",
       "      <td>7.139063</td>\n",
       "      <td>7.668750</td>\n",
       "      <td>6.721875</td>\n",
       "      <td>6.090625</td>\n",
       "      <td>6.664063</td>\n",
       "      <td>7.410938</td>\n",
       "      <td>7.387500</td>\n",
       "      <td>6.779687</td>\n",
       "      <td>7.073438</td>\n",
       "      <td>7.593750</td>\n",
       "    </tr>\n",
       "    <tr>\n",
       "      <th>Staten Island</th>\n",
       "      <td>88.900000</td>\n",
       "      <td>91.300000</td>\n",
       "      <td>43.500000</td>\n",
       "      <td>1476.600000</td>\n",
       "      <td>88.900000</td>\n",
       "      <td>593.300000</td>\n",
       "      <td>7.800000</td>\n",
       "      <td>7.390000</td>\n",
       "      <td>7.460000</td>\n",
       "      <td>7.620000</td>\n",
       "      <td>...</td>\n",
       "      <td>7.390000</td>\n",
       "      <td>7.860000</td>\n",
       "      <td>6.530000</td>\n",
       "      <td>6.070000</td>\n",
       "      <td>6.780000</td>\n",
       "      <td>7.330000</td>\n",
       "      <td>7.200000</td>\n",
       "      <td>6.870000</td>\n",
       "      <td>7.200000</td>\n",
       "      <td>7.610000</td>\n",
       "    </tr>\n",
       "  </tbody>\n",
       "</table>\n",
       "<p>5 rows × 22 columns</p>\n",
       "</div>"
      ],
      "text/plain": [
       "                    rr_s       rr_t       rr_p          N_s        N_t  \\\n",
       "boro                                                                     \n",
       "Bronx          80.440860  80.784946  42.440860   435.959229  30.559140   \n",
       "Brooklyn       77.952830  82.122642  34.783019   575.726415  39.179245   \n",
       "Manhattan      83.322222  85.211111  39.900000   495.615741  31.566667   \n",
       "Queens         82.000000  84.796875  38.718750   878.234375  57.046875   \n",
       "Staten Island  88.900000  91.300000  43.500000  1476.600000  88.900000   \n",
       "\n",
       "                      N_p  saf_p_11  com_p_11  eng_p_11  aca_p_11  ...  \\\n",
       "boro                                                               ...   \n",
       "Bronx          202.333333  8.346237  7.805376  7.639785  7.947312  ...   \n",
       "Brooklyn       249.754717  8.036792  7.600000  7.516981  7.789623  ...   \n",
       "Manhattan      203.255556  8.288889  7.577778  7.465556  7.786667  ...   \n",
       "Queens         318.843750  8.098437  7.476563  7.425000  7.685937  ...   \n",
       "Staten Island  593.300000  7.800000  7.390000  7.460000  7.620000  ...   \n",
       "\n",
       "               eng_t_11  aca_t_11  saf_s_11  com_s_11  eng_s_11  aca_s_11  \\\n",
       "boro                                                                        \n",
       "Bronx          6.884946  7.427957  6.606577  6.093492  6.630326  7.418079   \n",
       "Brooklyn       6.979245  7.497170  6.370755  6.028302  6.549057  7.313208   \n",
       "Manhattan      6.963333  7.472222  6.831370  6.179883  6.644895  7.408475   \n",
       "Queens         7.139063  7.668750  6.721875  6.090625  6.664063  7.410938   \n",
       "Staten Island  7.390000  7.860000  6.530000  6.070000  6.780000  7.330000   \n",
       "\n",
       "               saf_tot_11  com_tot_11  eng_tot_11  aca_tot_11  \n",
       "boro                                                           \n",
       "Bronx            7.322581    6.765591    7.046237    7.598925  \n",
       "Brooklyn         7.129245    6.715094    7.016038    7.535849  \n",
       "Manhattan        7.473333    6.728889    7.021111    7.556667  \n",
       "Queens           7.387500    6.779687    7.073438    7.593750  \n",
       "Staten Island    7.200000    6.870000    7.200000    7.610000  \n",
       "\n",
       "[5 rows x 22 columns]"
      ]
     },
     "execution_count": 56,
     "metadata": {},
     "output_type": "execute_result"
    }
   ],
   "source": [
    "borough_safety=combined.groupby(\"boro\").mean()[survey_columns]\n",
    "borough_safety"
   ]
  },
  {
   "cell_type": "code",
   "execution_count": 57,
   "metadata": {},
   "outputs": [
    {
     "data": {
      "text/plain": [
       "<matplotlib.axes._subplots.AxesSubplot at 0x228a0657700>"
      ]
     },
     "execution_count": 57,
     "metadata": {},
     "output_type": "execute_result"
    },
    {
     "data": {
      "image/png": "[encoded data removed]",
      "text/plain": [
       "<Figure size 432x288 with 1 Axes>"
      ]
     },
     "metadata": {
      "needs_background": "light"
     },
     "output_type": "display_data"
    }
   ],
   "source": [
    "borough_safety[\"saf_s_11\"].plot(kind=\"bar\")"
   ]
  },
  {
   "cell_type": "code",
   "execution_count": 58,
   "metadata": {},
   "outputs": [
    {
     "data": {
      "text/plain": [
       "<matplotlib.axes._subplots.AxesSubplot at 0x228a0767190>"
      ]
     },
     "execution_count": 58,
     "metadata": {},
     "output_type": "execute_result"
    },
    {
     "data": {
      "image/png": "[encoded data removed]",
      "text/plain": [
       "<Figure size 432x288 with 1 Axes>"
      ]
     },
     "metadata": {
      "needs_background": "light"
     },
     "output_type": "display_data"
    }
   ],
   "source": [
    "borough_safety[\"saf_t_11\"].plot(kind=\"bar\")"
   ]
  },
  {
   "cell_type": "markdown",
   "metadata": {},
   "source": [
    "#### observation\n",
    "\n",
    "relatively the same level of safety.\n",
    "It looks like Manhattan and Queens tend to have higher safety scores, whereas Brooklyn has low teacher and student safety scores"
   ]
  },
  {
   "cell_type": "markdown",
   "metadata": {},
   "source": [
    "### RACIAL DIFFERENCE IN SAT SCORES"
   ]
  },
  {
   "cell_type": "code",
   "execution_count": 59,
   "metadata": {},
   "outputs": [],
   "source": [
    "racial_columns=[\"white_per\",\"asian_per\",\"black_per\",\"hispanic_per\"]"
   ]
  },
  {
   "cell_type": "code",
   "execution_count": 60,
   "metadata": {},
   "outputs": [
    {
     "data": {
      "text/html": [
       "<div>\n",
       "<style scoped>\n",
       "    .dataframe tbody tr th:only-of-type {\n",
       "        vertical-align: middle;\n",
       "    }\n",
       "\n",
       "    .dataframe tbody tr th {\n",
       "        vertical-align: top;\n",
       "    }\n",
       "\n",
       "    .dataframe thead th {\n",
       "        text-align: right;\n",
       "    }\n",
       "</style>\n",
       "<table border=\"1\" class=\"dataframe\">\n",
       "  <thead>\n",
       "    <tr style=\"text-align: right;\">\n",
       "      <th></th>\n",
       "      <th>white_per</th>\n",
       "      <th>asian_per</th>\n",
       "      <th>black_per</th>\n",
       "      <th>hispanic_per</th>\n",
       "    </tr>\n",
       "  </thead>\n",
       "  <tbody>\n",
       "    <tr>\n",
       "      <th>0</th>\n",
       "      <td>1.7</td>\n",
       "      <td>14.0</td>\n",
       "      <td>29.1</td>\n",
       "      <td>53.8</td>\n",
       "    </tr>\n",
       "    <tr>\n",
       "      <th>1</th>\n",
       "      <td>2.3</td>\n",
       "      <td>29.2</td>\n",
       "      <td>22.6</td>\n",
       "      <td>45.9</td>\n",
       "    </tr>\n",
       "    <tr>\n",
       "      <th>2</th>\n",
       "      <td>10.4</td>\n",
       "      <td>9.7</td>\n",
       "      <td>23.9</td>\n",
       "      <td>55.4</td>\n",
       "    </tr>\n",
       "    <tr>\n",
       "      <th>3</th>\n",
       "      <td>1.6</td>\n",
       "      <td>9.3</td>\n",
       "      <td>31.6</td>\n",
       "      <td>56.9</td>\n",
       "    </tr>\n",
       "    <tr>\n",
       "      <th>4</th>\n",
       "      <td>44.9</td>\n",
       "      <td>27.8</td>\n",
       "      <td>11.7</td>\n",
       "      <td>14.2</td>\n",
       "    </tr>\n",
       "    <tr>\n",
       "      <th>...</th>\n",
       "      <td>...</td>\n",
       "      <td>...</td>\n",
       "      <td>...</td>\n",
       "      <td>...</td>\n",
       "    </tr>\n",
       "    <tr>\n",
       "      <th>358</th>\n",
       "      <td>0.7</td>\n",
       "      <td>1.7</td>\n",
       "      <td>9.2</td>\n",
       "      <td>88.1</td>\n",
       "    </tr>\n",
       "    <tr>\n",
       "      <th>359</th>\n",
       "      <td>1.8</td>\n",
       "      <td>0.5</td>\n",
       "      <td>28.3</td>\n",
       "      <td>68.7</td>\n",
       "    </tr>\n",
       "    <tr>\n",
       "      <th>360</th>\n",
       "      <td>1.0</td>\n",
       "      <td>1.5</td>\n",
       "      <td>26.4</td>\n",
       "      <td>70.4</td>\n",
       "    </tr>\n",
       "    <tr>\n",
       "      <th>361</th>\n",
       "      <td>1.5</td>\n",
       "      <td>5.3</td>\n",
       "      <td>12.9</td>\n",
       "      <td>79.5</td>\n",
       "    </tr>\n",
       "    <tr>\n",
       "      <th>362</th>\n",
       "      <td>0.0</td>\n",
       "      <td>0.9</td>\n",
       "      <td>21.2</td>\n",
       "      <td>77.3</td>\n",
       "    </tr>\n",
       "  </tbody>\n",
       "</table>\n",
       "<p>363 rows × 4 columns</p>\n",
       "</div>"
      ],
      "text/plain": [
       "     white_per  asian_per  black_per  hispanic_per\n",
       "0          1.7       14.0       29.1          53.8\n",
       "1          2.3       29.2       22.6          45.9\n",
       "2         10.4        9.7       23.9          55.4\n",
       "3          1.6        9.3       31.6          56.9\n",
       "4         44.9       27.8       11.7          14.2\n",
       "..         ...        ...        ...           ...\n",
       "358        0.7        1.7        9.2          88.1\n",
       "359        1.8        0.5       28.3          68.7\n",
       "360        1.0        1.5       26.4          70.4\n",
       "361        1.5        5.3       12.9          79.5\n",
       "362        0.0        0.9       21.2          77.3\n",
       "\n",
       "[363 rows x 4 columns]"
      ]
     },
     "execution_count": 60,
     "metadata": {},
     "output_type": "execute_result"
    }
   ],
   "source": [
    "combined[racial_columns]"
   ]
  },
  {
   "cell_type": "code",
   "execution_count": 61,
   "metadata": {},
   "outputs": [
    {
     "data": {
      "text/plain": [
       "white_per       0.302345\n",
       "asian_per       0.256366\n",
       "black_per      -0.085260\n",
       "hispanic_per   -0.233828\n",
       "Name: sat_score, dtype: float64"
      ]
     },
     "execution_count": 61,
     "metadata": {},
     "output_type": "execute_result"
    }
   ],
   "source": [
    "#correlation of sat scores for only racial columns\n",
    "racial_correlation=combined.corr()[\"sat_score\"][racial_columns]\n",
    "racial_correlation"
   ]
  },
  {
   "cell_type": "code",
   "execution_count": 62,
   "metadata": {},
   "outputs": [
    {
     "data": {
      "image/png": "[encoded data removed]",
      "text/plain": [
       "<Figure size 432x288 with 1 Axes>"
      ]
     },
     "metadata": {
      "needs_background": "light"
     },
     "output_type": "display_data"
    }
   ],
   "source": [
    "racial_correlation.plot.bar()\n",
    "plt.xlabel(\"racial columns\")\n",
    "plt.ylabel(\"correlation with SAT scores\")\n",
    "plt.show()"
   ]
  },
  {
   "cell_type": "markdown",
   "metadata": {},
   "source": [
    "#### observation\n",
    "It looks like a higher percentage of white or asian students at a school correlates positively with sat score, whereas a higher percentage of black or hispanic students correlates negatively with sat score. This may be due to a lack of funding for schools in certain areas, which are more likely to have a higher percentage of black or hispanic students.\n",
    "\n"
   ]
  },
  {
   "cell_type": "code",
   "execution_count": 63,
   "metadata": {},
   "outputs": [
    {
     "data": {
      "text/plain": [
       "(1000.0, 2000.0)"
      ]
     },
     "execution_count": 63,
     "metadata": {},
     "output_type": "execute_result"
    },
    {
     "data": {
      "image/png": "[encoded data removed]",
      "text/plain": [
       "<Figure size 432x288 with 1 Axes>"
      ]
     },
     "metadata": {
      "needs_background": "light"
     },
     "output_type": "display_data"
    }
   ],
   "source": [
    "combined.plot.scatter(\"hispanic_per\", \"sat_score\")\n",
    "plt.ylim(1000,2000)"
   ]
  },
  {
   "cell_type": "markdown",
   "metadata": {},
   "source": [
    "Surprisingly school with a percentage of below 20% hispanic student tend to score high sat_scores than those with higher percentages. Generally most hispanic student have sat_scores below 1400"
   ]
  },
  {
   "cell_type": "code",
   "execution_count": 64,
   "metadata": {},
   "outputs": [
    {
     "data": {
      "text/plain": [
       "44                         Manhattan Bridges High School\n",
       "82      Washington Heights Expeditionary Learning School\n",
       "89     Gregorio Luperon High School for Science and M...\n",
       "125                  Academy for Language and Technology\n",
       "141                International School for Liberal Arts\n",
       "176     Pan American International High School at Monroe\n",
       "253                            Multicultural High School\n",
       "286               Pan American International High School\n",
       "Name: school_name, dtype: object"
      ]
     },
     "execution_count": 64,
     "metadata": {},
     "output_type": "execute_result"
    }
   ],
   "source": [
    "#Researching any schools with a hispanic_per greater than 95%\n",
    "\n",
    "condition95=combined[\"hispanic_per\"]>95\n",
    "\n",
    "combined.loc[condition95,\"school_name\"]\n",
    "\n"
   ]
  },
  {
   "cell_type": "markdown",
   "metadata": {},
   "source": [
    "The schools listed above seems to be related to fresh immigrants in the US. Maybe it would explain the lower SAT scores."
   ]
  },
  {
   "cell_type": "code",
   "execution_count": 65,
   "metadata": {},
   "outputs": [
    {
     "data": {
      "text/plain": [
       "37                                Stuyvesant High School\n",
       "151                         Bronx High School of Science\n",
       "187                       Brooklyn Technical High School\n",
       "327    Queens High School for the Sciences at York Co...\n",
       "356                  Staten Island Technical High School\n",
       "Name: school_name, dtype: object"
      ]
     },
     "execution_count": 65,
     "metadata": {},
     "output_type": "execute_result"
    }
   ],
   "source": [
    "# sat_score is the average sat_ score as it was acquired by combining the average math,critical reading and writing scores\n",
    "\n",
    "#Research any schools with a hispanic_per less than 10% and an average SAT score greater than 1800.\n",
    "\n",
    "condition10satscore1800=(combined[\"hispanic_per\"]<10)&(combined[\"sat_score\"]>1800)\n",
    "combined.loc[condition10satscore1800,\"school_name\"]"
   ]
  },
  {
   "cell_type": "markdown",
   "metadata": {},
   "source": [
    "The schools listed above appear to be specialized science and technology schools, which means: receiving extra funding, and only admit students who pass an entrance exam. It can explain why their students tend to do better on the SAT - they are students from all over New York City who did well on a standardized test."
   ]
  },
  {
   "cell_type": "markdown",
   "metadata": {},
   "source": [
    "### Gender differences in SAT scores"
   ]
  },
  {
   "cell_type": "code",
   "execution_count": 66,
   "metadata": {},
   "outputs": [
    {
     "data": {
      "text/plain": [
       "<matplotlib.axes._subplots.AxesSubplot at 0x228a00009a0>"
      ]
     },
     "execution_count": 66,
     "metadata": {},
     "output_type": "execute_result"
    },
    {
     "data": {
      "image/png": "[encoded data removed]",
      "text/plain": [
       "<Figure size 432x288 with 1 Axes>"
      ]
     },
     "metadata": {
      "needs_background": "light"
     },
     "output_type": "display_data"
    }
   ],
   "source": [
    "gender=[\"male_per\",\"female_per\"]\n",
    "combined.corr()[\"sat_score\"][gender].plot(kind=\"bar\")"
   ]
  },
  {
   "cell_type": "markdown",
   "metadata": {},
   "source": [
    "From the output, we can see that a high percentage of females at a school positively correlates with SAT score, whereas a high percentage of males at a school negatively correlates with SAT score. It's good to keep in mind that the difference isn't much."
   ]
  },
  {
   "cell_type": "code",
   "execution_count": 67,
   "metadata": {},
   "outputs": [
    {
     "data": {
      "text/plain": [
       "(1000.0, 2000.0)"
      ]
     },
     "execution_count": 67,
     "metadata": {},
     "output_type": "execute_result"
    },
    {
     "data": {
      "image/png": "[encoded data removed]",
      "text/plain": [
       "<Figure size 432x288 with 1 Axes>"
      ]
     },
     "metadata": {
      "needs_background": "light"
     },
     "output_type": "display_data"
    }
   ],
   "source": [
    "combined.plot.scatter(\"female_per\", \"sat_score\")\n",
    "plt.ylim(1000,2000)"
   ]
  },
  {
   "cell_type": "markdown",
   "metadata": {},
   "source": [
    "Based on the scatterplot, there doesn't seem to be any real correlation between sat_score and female_per. However, there is a cluster of schools with a high percentage of females (60 to 80), and high SAT scores."
   ]
  },
  {
   "cell_type": "code",
   "execution_count": 69,
   "metadata": {},
   "outputs": [
    {
     "data": {
      "text/plain": [
       "5                         Bard High School Early College\n",
       "26                         Eleanor Roosevelt High School\n",
       "60                                    Beacon High School\n",
       "61     Fiorello H. LaGuardia High School of Music & A...\n",
       "302                          Townsend Harris High School\n",
       "Name: school_name, dtype: object"
      ]
     },
     "execution_count": 69,
     "metadata": {},
     "output_type": "execute_result"
    }
   ],
   "source": [
    "# Research any schools with a female_per greater than 60% and an average SAT score greater than 1700.\n",
    "\n",
    "condition60satscore1700=(combined[\"female_per\"]>60)&(combined[\"sat_score\"]>1700)\n",
    "combined.loc[condition60satscore1700,\"school_name\"]\n"
   ]
  },
  {
   "cell_type": "markdown",
   "metadata": {},
   "source": [
    "These schools appears to be very selective liberal arts schools that have high academic standards."
   ]
  },
  {
   "cell_type": "markdown",
   "metadata": {},
   "source": [
    "### AP Exam Scores vs SAT Scores\n",
    "\n",
    "In the U.S., high school students take Advanced Placement (AP) exams to earn college credit. There are AP exams for many different subjects."
   ]
  },
  {
   "cell_type": "code",
   "execution_count": 76,
   "metadata": {},
   "outputs": [
    {
     "data": {
      "text/html": [
       "<div>\n",
       "<style scoped>\n",
       "    .dataframe tbody tr th:only-of-type {\n",
       "        vertical-align: middle;\n",
       "    }\n",
       "\n",
       "    .dataframe tbody tr th {\n",
       "        vertical-align: top;\n",
       "    }\n",
       "\n",
       "    .dataframe thead th {\n",
       "        text-align: right;\n",
       "    }\n",
       "</style>\n",
       "<table border=\"1\" class=\"dataframe\">\n",
       "  <thead>\n",
       "    <tr style=\"text-align: right;\">\n",
       "      <th></th>\n",
       "      <th>AP Test Takers</th>\n",
       "      <th>total_enrollment</th>\n",
       "    </tr>\n",
       "  </thead>\n",
       "  <tbody>\n",
       "    <tr>\n",
       "      <th>0</th>\n",
       "      <td>129.028846</td>\n",
       "      <td>422</td>\n",
       "    </tr>\n",
       "    <tr>\n",
       "      <th>1</th>\n",
       "      <td>39.000000</td>\n",
       "      <td>394</td>\n",
       "    </tr>\n",
       "    <tr>\n",
       "      <th>2</th>\n",
       "      <td>19.000000</td>\n",
       "      <td>598</td>\n",
       "    </tr>\n",
       "    <tr>\n",
       "      <th>3</th>\n",
       "      <td>129.028846</td>\n",
       "      <td>367</td>\n",
       "    </tr>\n",
       "    <tr>\n",
       "      <th>4</th>\n",
       "      <td>255.000000</td>\n",
       "      <td>1613</td>\n",
       "    </tr>\n",
       "    <tr>\n",
       "      <th>...</th>\n",
       "      <td>...</td>\n",
       "      <td>...</td>\n",
       "    </tr>\n",
       "    <tr>\n",
       "      <th>358</th>\n",
       "      <td>47.000000</td>\n",
       "      <td>606</td>\n",
       "    </tr>\n",
       "    <tr>\n",
       "      <th>359</th>\n",
       "      <td>129.028846</td>\n",
       "      <td>434</td>\n",
       "    </tr>\n",
       "    <tr>\n",
       "      <th>360</th>\n",
       "      <td>76.000000</td>\n",
       "      <td>398</td>\n",
       "    </tr>\n",
       "    <tr>\n",
       "      <th>361</th>\n",
       "      <td>7.000000</td>\n",
       "      <td>263</td>\n",
       "    </tr>\n",
       "    <tr>\n",
       "      <th>362</th>\n",
       "      <td>34.000000</td>\n",
       "      <td>462</td>\n",
       "    </tr>\n",
       "  </tbody>\n",
       "</table>\n",
       "<p>363 rows × 2 columns</p>\n",
       "</div>"
      ],
      "text/plain": [
       "     AP Test Takers   total_enrollment\n",
       "0         129.028846               422\n",
       "1          39.000000               394\n",
       "2          19.000000               598\n",
       "3         129.028846               367\n",
       "4         255.000000              1613\n",
       "..               ...               ...\n",
       "358        47.000000               606\n",
       "359       129.028846               434\n",
       "360        76.000000               398\n",
       "361         7.000000               263\n",
       "362        34.000000               462\n",
       "\n",
       "[363 rows x 2 columns]"
      ]
     },
     "execution_count": 76,
     "metadata": {},
     "output_type": "execute_result"
    }
   ],
   "source": [
    "combined[['AP Test Takers ',\"total_enrollment\"]]"
   ]
  },
  {
   "cell_type": "code",
   "execution_count": 77,
   "metadata": {},
   "outputs": [],
   "source": [
    "combined[\"ap_per\"]=combined['AP Test Takers ']/ combined[\"total_enrollment\"]"
   ]
  },
  {
   "cell_type": "code",
   "execution_count": 78,
   "metadata": {},
   "outputs": [
    {
     "data": {
      "text/plain": [
       "0      0.305756\n",
       "1      0.098985\n",
       "2      0.031773\n",
       "3      0.351577\n",
       "4      0.158091\n",
       "         ...   \n",
       "358    0.077558\n",
       "359    0.297301\n",
       "360    0.190955\n",
       "361    0.026616\n",
       "362    0.073593\n",
       "Name: ap_per, Length: 363, dtype: float64"
      ]
     },
     "execution_count": 78,
     "metadata": {},
     "output_type": "execute_result"
    }
   ],
   "source": [
    "combined[\"ap_per\"]"
   ]
  },
  {
   "cell_type": "code",
   "execution_count": 79,
   "metadata": {},
   "outputs": [
    {
     "data": {
      "text/plain": [
       "(1000.0, 2000.0)"
      ]
     },
     "execution_count": 79,
     "metadata": {},
     "output_type": "execute_result"
    },
    {
     "data": {
      "image/png": "[encoded data removed]",
      "text/plain": [
       "<Figure size 432x288 with 1 Axes>"
      ]
     },
     "metadata": {
      "needs_background": "light"
     },
     "output_type": "display_data"
    }
   ],
   "source": [
    "combined.plot.scatter(\"ap_per\", \"sat_score\")\n",
    "plt.ylim(1000,2000)"
   ]
  },
  {
   "cell_type": "markdown",
   "metadata": {},
   "source": [
    "It looks like there is a relationship between the percentage of students in a school who take the AP exam, and their average SAT scores. It's not an extremely strong correlation, though."
   ]
  },
  {
   "cell_type": "markdown",
   "metadata": {},
   "source": [
    "###  Summarizing the main insights\n",
    "\n",
    "1. The above analysis shows that larger schools tend to have students who do better on the SAT. What's more, women do better on the SAT than men.\n",
    "\n",
    "2. We can point out that safety and respect perceptions seem to be important in achieving higher SAT scores.\n",
    "\n",
    "3. A higher percentage of white and Asian students at a school correlates positively with the sat score, whereas a higher percentage of black and Hispanic students correlates negatively with the SAT score. Possible reasons:\n",
    "\n",
    "* a lack of funding for schools in certain areas.\n",
    "\n",
    "* more poor sub-boroughs and people who live there."
   ]
  },
  {
   "cell_type": "code",
   "execution_count": null,
   "metadata": {},
   "outputs": [],
   "source": []
  }
 ],
 "metadata": {
  "kernelspec": {
   "display_name": "Python 3",
   "language": "python",
   "name": "python3"
  },
  "language_info": {
   "codemirror_mode": {
    "name": "ipython",
    "version": 3
   },
   "file_extension": ".py",
   "mimetype": "text/x-python",
   "name": "python",
   "nbconvert_exporter": "python",
   "pygments_lexer": "ipython3",
   "version": "3.8.3"
  }
 },
 "nbformat": 4,
 "nbformat_minor": 4
}
